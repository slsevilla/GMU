{
 "cells": [
  {
   "cell_type": "code",
   "execution_count": 1,
   "metadata": {
    "scrolled": true
   },
   "outputs": [
    {
     "name": "stderr",
     "output_type": "stream",
     "text": [
      "Warning message:\n",
      "\"package 'dplyr' was built under R version 3.6.3\"\n",
      "\n",
      "Attaching package: 'dplyr'\n",
      "\n",
      "\n",
      "The following objects are masked from 'package:stats':\n",
      "\n",
      "    filter, lag\n",
      "\n",
      "\n",
      "The following objects are masked from 'package:base':\n",
      "\n",
      "    intersect, setdiff, setequal, union\n",
      "\n",
      "\n",
      "Warning message:\n",
      "\"package 'ggforce' was built under R version 3.6.3\"\n",
      "Loading required package: ggplot2\n",
      "\n",
      "Warning message:\n",
      "\"package 'ggplot2' was built under R version 3.6.3\"\n"
     ]
    }
   ],
   "source": [
    "library(dplyr)\n",
    "library(ggforce) # for 'geom_arc_bar'"
   ]
  },
  {
   "cell_type": "code",
   "execution_count": 2,
   "metadata": {},
   "outputs": [],
   "source": [
    "CONTdf = read.csv('../taxonomy/Taxonomy_Complete.csv')\n",
    "cgr_proj_dir='/DCEG/Projects/Microbiome/Analysis/NP0084_MB/20200410_2019.1'\n",
    "proj_dir='/Users/slsevilla/Google Drive/MyDocuments_Current/Education/George Mason University/Dissertation/Data/Aim1/'\n",
    "data_dir=paste(proj_dir,'output/data/',sep=\"\")\n",
    "img_dir=paste(proj_dir,'output/analysis/img/',sep=\"\")\n",
    "stats_dir=paste(proj_dir,'output/analysis/stats/',sep=\"\")"
   ]
  },
  {
   "cell_type": "markdown",
   "metadata": {},
   "source": [
    "<h2> Code <h2>"
   ]
  },
  {
   "cell_type": "code",
   "execution_count": 3,
   "metadata": {},
   "outputs": [],
   "source": [
    "sub_df <- function(df_in,cont){\n",
    "    df = subset(df_in,select=c(\"Genus\",cont))\n",
    "    #Combine genera\n",
    "    df_out = aggregate(df[,cont], list(df$Genus), sum)\n",
    "    colnames(df_out) = c(\"Genus\",cont)\n",
    "    \n",
    "    #calculate percent with 2 sig figs\n",
    "    df_out$perc = signif(df_out[,cont] * 100, 2)\n",
    "    df_out = filter(df_out, perc > 0) \n",
    "    print(paste(cont,nrow(df_out),sep=\" has # of genera \"))\n",
    "    return(df_out)\n",
    "}"
   ]
  },
  {
   "cell_type": "code",
   "execution_count": 4,
   "metadata": {},
   "outputs": [],
   "source": [
    "donut <- function(){\n",
    "    ggplot(CONTdf_sub, aes(x = 2, y = DZ35316, fill = Genus)) +\n",
    "      geom_bar(stat = \"identity\", color = \"white\") +\n",
    "      coord_polar(theta = \"y\", start = 0)+\n",
    "      geom_text(aes(y = DZ35316, label = DZ35316), color = \"white\")+\n",
    "      theme_void()+\n",
    "      xlim(0.5, 2.5)\n",
    "}"
   ]
  },
  {
   "cell_type": "code",
   "execution_count": 5,
   "metadata": {},
   "outputs": [],
   "source": [
    "plot_label <- function(df_in,cont_in){\n",
    "    df <- CONTdf_sub %>% \n",
    "      mutate(end = 2 * pi * cumsum(DZ35316)/sum(DZ35316),\n",
    "             start = lag(end, default = 0),\n",
    "             middle = 0.5 * (start + end),\n",
    "             hjust = ifelse(middle > pi, 1, 0),\n",
    "             vjust = ifelse(middle < pi/2 | middle > 3 * pi/2, 0, 1.5))\n",
    "\n",
    "    p = ggplot(df) +\n",
    "        geom_arc_bar(aes(x0 = 0, y0 = 0, r0 = 0, r = 1,\n",
    "                         start = start, end = end, fill = Genus)) +\n",
    "        geom_text(aes(x = 1 * sin(middle), y = 1.01 * cos(middle), label = paste(Genus,perc,sep=\"-\"),\n",
    "                      hjust = hjust, vjust = vjust)) +\n",
    "        coord_fixed() +\n",
    "        #theme(legend.position=\"none\") + \n",
    "        scale_x_continuous(limits = c(-1.5, 1.4),  # Adjust so labels are not cut off\n",
    "                           name = \"\", breaks = NULL, labels = NULL) +\n",
    "        scale_y_continuous(limits = c(-1, 1),      # Adjust so labels are not cut off\n",
    "                           name = \"\", breaks = NULL, labels = NULL)\n",
    "\n",
    "    aspect_ratio <- 2.5\n",
    "    height_in <- 5\n",
    "    ggsave(filename=paste(img_dir,\"taxplot_nl_\",cont_in,\".png\",sep=\"\"), plot=p, device=\"png\",\n",
    "           height=height_in, width=height_in*aspect_ratio, units=\"in\", dpi=500)\n",
    "}"
   ]
  },
  {
   "cell_type": "code",
   "execution_count": 6,
   "metadata": {},
   "outputs": [],
   "source": [
    "plot_nolabel <- function(df_in,cont_in){\n",
    "    df <- df_in %>% \n",
    "      mutate(end = 2 * pi * cumsum(get(cont_in))/sum(get(cont_in)),\n",
    "             start = lag(end, default = 0),\n",
    "             middle = 0.5 * (start + end),\n",
    "             hjust = ifelse(middle > pi, 1, 0),\n",
    "             vjust = ifelse(middle < pi/2 | middle > 3 * pi/2, 0, 1))\n",
    "\n",
    "    p = ggplot(df) +\n",
    "        geom_arc_bar(aes(x0 = 0, y0 = 0, r0 = 0, r = 1,\n",
    "                         start = start, end = end, fill = Genus)) +\n",
    "        coord_fixed() +\n",
    "        theme(legend.title = element_text(size=16, face=\"bold\"),\n",
    "            panel.background = element_rect(fill = \"white\"),legend.text=element_text(size=14)) + \n",
    "        scale_x_continuous(limits = c(-1.5, 1.4),  # Adjust so labels are not cut off\n",
    "                           name = \"\", breaks = NULL, labels = NULL) +\n",
    "        scale_y_continuous(limits = c(-1, 1),      # Adjust so labels are not cut off\n",
    "                           name = \"\", breaks = NULL, labels = NULL)\n",
    "\n",
    "    p = p + scale_fill_discrete(name = paste(cont,\" Mock Community\",sep=\"\"), labels = paste(df$Genus,\" \",df$perc,\"%\",sep=\"\"))\n",
    "    aspect_ratio <- 2.5\n",
    "    height_in <- 5\n",
    "    #ggsave(filename=paste(out_dir,\"taxplot_\",cont_in,\".png\",sep=\"\"), plot=p, device=\"png\",\n",
    "    #       height=height_in, width=height_in*aspect_ratio, units=\"in\", dpi=500)\n",
    "    \n",
    "    legend_save = cowplot::get_legend(p)\n",
    "    ggsave(filename=paste(img_dir,\"taxplot_legend_\",cont_in,\".png\",sep=\"\"), plot=legend_save, device=\"png\", \n",
    "           height=height_in, width=height_in*aspect_ratio, units=\"in\", dpi=500)\n",
    "}"
   ]
  },
  {
   "cell_type": "code",
   "execution_count": 7,
   "metadata": {},
   "outputs": [],
   "source": [
    "plot_nolabel_legsep <- function(df_in,cont_in){\n",
    "    df <- df_in %>% \n",
    "      mutate(end = 2 * pi * cumsum(get(cont_in))/sum(get(cont_in)),\n",
    "             start = lag(end, default = 0),\n",
    "             middle = 0.5 * (start + end),\n",
    "             hjust = ifelse(middle > pi, 1, 0),\n",
    "             vjust = ifelse(middle < pi/2 | middle > 3 * pi/2, 0, 1))\n",
    "\n",
    "    p = ggplot(df) +\n",
    "        geom_arc_bar(aes(x0 = 0, y0 = 0, r0 = 0, r = 1,\n",
    "                         start = start, end = end, fill = Genus)) +\n",
    "        coord_fixed() +\n",
    "        theme(panel.background = element_rect(fill = \"white\"),legend.position=\"none\") + \n",
    "        scale_x_continuous(limits = c(-1.5, 1.4),  # Adjust so labels are not cut off\n",
    "                           name = \"\", breaks = NULL, labels = NULL) +\n",
    "        scale_y_continuous(limits = c(-1, 1),      # Adjust so labels are not cut off\n",
    "                           name = \"\", breaks = NULL, labels = NULL)\n",
    "\n",
    "    p = p + scale_fill_discrete(name = paste(cont,\" Mock Community\",sep=\"\"), labels = paste(df$Genus,\" \",df$perc,\"%\",sep=\"\"))\n",
    "    aspect_ratio <- 2.5\n",
    "    height_in <- 5\n",
    "    ggsave(filename=paste(img_dir,\"taxplot_\",cont_in,\".png\",sep=\"\"), plot=p, device=\"png\",\n",
    "           height=height_in, width=height_in*aspect_ratio, units=\"in\", dpi=500)\n",
    "    \n",
    "    p = plot_nolabel(df_in,cont_in)\n",
    "}"
   ]
  },
  {
   "cell_type": "markdown",
   "metadata": {},
   "source": [
    "<h2> Create Taxonomy Plots <h2>"
   ]
  },
  {
   "cell_type": "code",
   "execution_count": 8,
   "metadata": {
    "scrolled": true
   },
   "outputs": [
    {
     "name": "stdout",
     "output_type": "stream",
     "text": [
      "[1] \"DZ35322 has # of genera 19\"\n",
      "[1] \"DZ35316 has # of genera 22\"\n",
      "[1] \"MSA1000 has # of genera 10\"\n",
      "[1] \"MSA1001 has # of genera 10\"\n",
      "[1] \"MSA1002 has # of genera 18\"\n",
      "[1] \"MSA1003 has # of genera 18\"\n",
      "[1] \"D6300 has # of genera 8\"\n",
      "[1] \"D6305 has # of genera 8\"\n",
      "[1] \"D6306 has # of genera 8\"\n",
      "[1] \"D6310 has # of genera 8\"\n",
      "[1] \"D6311 has # of genera 8\"\n",
      "[1] \"D6300_Updated has # of genera 7\"\n",
      "[1] \"D6310_Updated has # of genera 7\"\n"
     ]
    }
   ],
   "source": [
    "cont_list = c(\"DZ35322\",\"DZ35316\",\"MSA1000\",\"MSA1001\",\"MSA1002\",\"MSA1003\",\"D6300\",\"D6305\",\"D6306\",\"D6310\",\"D6311\",\"D6300_Updated\",\"D6310_Updated\")\n",
    "\n",
    "for (cont in cont_list){\n",
    "    CONTdf_sub = sub_df(CONTdf,cont)\n",
    "    plot_nolabel_legsep(CONTdf_sub,cont)\n",
    "}"
   ]
  }
 ],
 "metadata": {
  "kernelspec": {
   "display_name": "R",
   "language": "R",
   "name": "ir"
  },
  "language_info": {
   "codemirror_mode": "r",
   "file_extension": ".r",
   "mimetype": "text/x-r-source",
   "name": "R",
   "pygments_lexer": "r",
   "version": "3.6.1"
  }
 },
 "nbformat": 4,
 "nbformat_minor": 4
}
