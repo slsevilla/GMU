{
 "cells": [
  {
   "cell_type": "markdown",
   "metadata": {},
   "source": [
    "<!-- <div id=\"toc_container\"> -->\n",
    "<h2>Table of Contents</h2>\n",
    "<ul class=\"toc_list\">\n",
    "  <a href=\"#1&nbsp;&nbsp;General-Analysis-Information\">1&nbsp;&nbsp;General Analysis Information</a><br>\n",
    "    <ul>\n",
    "    <a href=\"#1.1&nbsp;&nbsp;Project-summary\">1.1&nbsp;&nbsp;Project summary</a><br>\n",
    "    <a href=\"#1.2&nbsp;&nbsp;Project-directory\">1.2&nbsp;&nbsp;Project directory</a><br>\n",
    "    </ul>\n",
    "  <a href=\"#2&nbsp;&nbsp;Phylo-Seq-Obj\">2&nbsp;&nbsp;Phylo Seq Object</a><br>\n",
    "  <a href=\"#3&nbsp;&nbsp;Filter-taxa\">3&nbsp;&nbsp;Filter taxa</a><br>\n",
    "    <ul>\n",
    "    <a href=\"#3.1&nbsp;&nbsp;By-taxa-mean\">3.1&nbsp;&nbsp;By taxa mean</a><br>\n",
    "    <a href=\"#3.2&nbsp;&nbsp;By-rel-abun\">3.2&nbsp;&nbsp;By relative abundances</a><br>\n",
    "    <a href=\"#3.3&nbsp;&nbsp;By-amp-conc\">3.3&nbsp;&nbsp;By amp conc</a><br>  \n",
    "    </ul>\n",
    "  <a href=\"#4&nbsp;&nbsp;Alpha-div\">4&nbsp;&nbsp;Alpha Diversity</a><br>\n",
    "    <ul>\n",
    "    <a href=\"#3.1&nbsp;&nbsp;Yaml-parameters\">3.1&nbsp;&nbsp;Yaml parameters</a><br>\n",
    "    <a href=\"#3.2&nbsp;&nbsp;Pipeline-run\">3.2&nbsp;&nbsp;Pipeline run</a><br>\n",
    "    </ul>\n",
    "  <a href=\"#4&nbsp;&nbsp;Quality-control\">4&nbsp;&nbsp;Quality control</a><br>\n",
    "    <ul>\n",
    "    <a href=\"#4.1&nbsp;&nbsp;Trimming\">4.1&nbsp;&nbsp;Trimming</a><br>\n",
    "    <a href=\"#4.2&nbsp;&nbsp;Non-bacterial-reads\">4.2&nbsp;&nbsp;Non-bacterial reads</a><br>\n",
    "    <a href=\"#4.3&nbsp;&nbsp;Sequencing-depth-distribution-per-flow-cell\">4.3&nbsp;&nbsp;Sequencing depth distribution per flow cell</a><br>\n",
    "    <a href=\"#4.4&nbsp;&nbsp;Read-counts-after-pre-process-filtering\">4.4&nbsp;&nbsp;Read counts after pre process filtering</a><br>\n",
    "    </ul>\n",
    "</ul>"
   ]
  },
  {
   "cell_type": "code",
   "execution_count": 8,
   "metadata": {
    "scrolled": false
   },
   "outputs": [
    {
     "name": "stderr",
     "output_type": "stream",
     "text": [
      "Bioconductor version 3.10 (BiocManager 1.30.10), R 3.6.1 (2019-07-05)\n",
      "\n",
      "Old packages: 'KernSmooth', 'MASS', 'backports', 'boot', 'broom', 'class',\n",
      "  'dbplyr', 'digest', 'ellipsis', 'ggpubr', 'glmnet', 'glue', 'modelr', 'nlme',\n",
      "  'nnet', 'pillar', 'pkgbuild', 'ps', 'purrr', 'recipes', 'reshape2', 'rlang',\n",
      "  'sp', 'spatial', 'tibble', 'tidyr', 'tidyselect', 'tinytex', 'uuid', 'vctrs',\n",
      "  'withr', 'xfun', 'xml2', 'zoo'\n",
      "\n"
     ]
    }
   ],
   "source": [
    "if (!requireNamespace(\"BiocManager\", quietly = TRUE))\n",
    "    install.packages(\"BiocManager\")\n",
    "BiocManager::install(version = \"3.10\")"
   ]
  },
  {
   "cell_type": "code",
   "execution_count": 9,
   "metadata": {},
   "outputs": [],
   "source": [
    "check_cran_pkg <- function(pkg){\n",
    "    if(pkg %in% rownames(installed.packages())==FALSE){\n",
    "        install.packages(pkg)\n",
    "    }\n",
    "}\n",
    "check_bioc_pkg<-function(pkg){\n",
    "    if(pkg %in% rownames(installed.packages())==FALSE){\n",
    "        BiocManager::install(pkg)\n",
    "    }\n",
    "}\n",
    "check_dev_pkg<-function(pkg){\n",
    "    if (!requireNamespace(\"devtools\", quietly = TRUE)){install.packages(\"devtools\")}\n",
    "    devtools::install_github(pkg)    \n",
    "}\n",
    "\n",
    "packages<-c(\"ape\", \"magrittr\",\"ggplot2\",\"knitr\",\"Rcpp\",\"expss\")\n",
    "for (i in packages){\n",
    "    check_cran_pkg(i)\n",
    "}\n",
    "\n",
    "packages<-c(\"phyloseq\",\"biomformat\",\"tidyverse\",\"yaml\")\n",
    "for (i in packages){\n",
    "    check_bioc_pkg(i)\n",
    "}"
   ]
  },
  {
   "cell_type": "code",
   "execution_count": 10,
   "metadata": {},
   "outputs": [],
   "source": [
    "source(\"sources/ggrare.R\") #github library: https://rdrr.io/github/gauravsk/ranacapa/\n",
    "source(\"sources/miseqR.R\")\n",
    "source(\"sources/qiime2R.R\") #github https://github.com/jbisanz/qiime2R\n",
    "source('sources/abundances.R') #github https://github.com/microbiome/microbiome\n",
    "\n",
    "library(biomformat)\n",
    "library(ape)\n",
    "library(cowplot)\n",
    "library(data.table)\n",
    "library(dplyr)\n",
    "library(\"expss\")\n",
    "library(ggplot2)\n",
    "library(phyloseq)\n",
    "library(scales)\n",
    "library(tibble)\n",
    "library(vegan)\n",
    "library(yaml)\n",
    "library(ggpubr)\n",
    "library(cluster)"
   ]
  },
  {
   "cell_type": "markdown",
   "metadata": {},
   "source": [
    "<h2 id=\"1&nbsp;&nbsp;General-Analysis-Information\">1&nbsp;&nbsp;General Analysis Information</h2>"
   ]
  },
  {
   "cell_type": "markdown",
   "metadata": {},
   "source": [
    "<h3 id=\"1.1&nbsp;&nbsp;Project-summary\">1.1&nbsp;&nbsp;Project summary</h3>\n",
    "\n",
    "AIM 1 consists of a fecal extraction comparison using fresh-frozen fecal material from human donors, and artificial colonies. Samples were extracted using multiple methods, to be examined. The 16S rRNA gene was then sequenced using an Illumina MiSeq from three projects: NP0084-MB4, NP0084-MB5, NP0084-MB6. A summary of the three individual projects is included below:\n",
    "\n",
    "- NP0084-MB4\n",
    "- NP0084-MB5\n",
    "- NP0084-MB6"
   ]
  },
  {
   "cell_type": "markdown",
   "metadata": {},
   "source": [
    "<h3 id=\"1.2&nbsp;&nbsp;Project-summary\">1.2&nbsp;&nbsp;Project directory</h3>"
   ]
  },
  {
   "cell_type": "code",
   "execution_count": 11,
   "metadata": {},
   "outputs": [],
   "source": [
    "cgr_proj_dir='/DCEG/Projects/Microbiome/Analysis/NP0084_MB/20200410_2019.1'\n",
    "proj_dir='/Users/slsevilla/Google Drive/MyDocuments_Current/Education/George Mason University/Dissertation/Data/Aim1/'"
   ]
  },
  {
   "cell_type": "markdown",
   "metadata": {},
   "source": [
    "<h2 id=\"2&nbsp;&nbsp;Phylo-Seq-Obj\">2&nbsp;&nbsp;Phylo Seq Object</h2>"
   ]
  },
  {
   "cell_type": "code",
   "execution_count": 12,
   "metadata": {},
   "outputs": [],
   "source": [
    "#Read OTUS\n",
    "otus<-read_qza('../output/denoising/feature_tables/merged_filtered.qza')\n",
    "\n",
    "#Read rooted tree\n",
    "tree<-read_qza('../output/phylogenetics/rooted_tree.qza')\n",
    " \n",
    "#Read Greengenes taxonomy file\n",
    "taxonomy<-read_qza('../output/taxonomic_classification/classify-sklearn_silva-132-99-nb-classifier.qza')\n",
    " \n",
    "#Create taxonomy table\n",
    "tax_table = data.frame()\n",
    "col = 1\n",
    "row = 1\n",
    "\n",
    "for (i in taxonomy$data$Taxon){\n",
    "    tax_list = as.list(strsplit(as.character(i),\";\"))\n",
    "    for (i in 1:lengths(tax_list)){\n",
    "        tax_table[row,col] = tax_list[[1]][i]\n",
    "        col = col + 1\n",
    "    }\n",
    "    col = 1\n",
    "    row = row + 1\n",
    "}\n",
    "rownames(tax_table)<-taxonomy$data$Feature.ID\n",
    "colnames(tax_table)<-c(\"Domain\", \"Phylum\", \"Class\", \"Order\", \"Family\", \"Genus\", \"Species\")\n",
    "tax_convert<-as.matrix(tax_table)  \n",
    " \n",
    "#read metadata\n",
    "metadata<-read.table('../manifest/m_cleaned.txt',sep='\\t', header=T, row.names=1, comment=\"\")\n",
    " \n",
    "#Create phylo object\n",
    "phy_obj<-phyloseq(otu_table(otus$data, taxa_are_rows = T), phy_tree(tree$data), tax_table(tax_convert), sample_data(metadata))"
   ]
  },
  {
   "cell_type": "code",
   "execution_count": 13,
   "metadata": {
    "scrolled": true
   },
   "outputs": [
    {
     "data": {
      "text/html": [
       "<style>\n",
       ".list-inline {list-style: none; margin:0; padding: 0}\n",
       ".list-inline>li {display: inline-block}\n",
       ".list-inline>li:not(:last-child)::after {content: \"\\00b7\"; padding: 0 .5ex}\n",
       "</style>\n",
       "<ol class=list-inline><li>'Source.PCR.Plate'</li><li>'Run.ID'</li><li>'Project.ID'</li><li>'CGR.Sample.ID'</li><li>'Sample.Type'</li><li>'Sample.Des'</li><li>'Subject.ID'</li><li>'Reciept'</li><li>'Ext.Company'</li><li>'Ext.Kit'</li><li>'Ext.Robotics'</li><li>'Homo.Status'</li><li>'Homo.Method'</li><li>'Homo.Holder'</li><li>'input'</li><li>'filtered'</li><li>'denoised'</li><li>'merged'</li><li>'non.chimeric'</li><li>'D_0__Archaea'</li><li>'D_0__Bacteria'</li><li>'D_0__Eukaryota'</li><li>'Unassigned'</li><li>'frac_filtered'</li></ol>\n"
      ],
      "text/latex": [
       "\\begin{enumerate*}\n",
       "\\item 'Source.PCR.Plate'\n",
       "\\item 'Run.ID'\n",
       "\\item 'Project.ID'\n",
       "\\item 'CGR.Sample.ID'\n",
       "\\item 'Sample.Type'\n",
       "\\item 'Sample.Des'\n",
       "\\item 'Subject.ID'\n",
       "\\item 'Reciept'\n",
       "\\item 'Ext.Company'\n",
       "\\item 'Ext.Kit'\n",
       "\\item 'Ext.Robotics'\n",
       "\\item 'Homo.Status'\n",
       "\\item 'Homo.Method'\n",
       "\\item 'Homo.Holder'\n",
       "\\item 'input'\n",
       "\\item 'filtered'\n",
       "\\item 'denoised'\n",
       "\\item 'merged'\n",
       "\\item 'non.chimeric'\n",
       "\\item 'D\\_0\\_\\_Archaea'\n",
       "\\item 'D\\_0\\_\\_Bacteria'\n",
       "\\item 'D\\_0\\_\\_Eukaryota'\n",
       "\\item 'Unassigned'\n",
       "\\item 'frac\\_filtered'\n",
       "\\end{enumerate*}\n"
      ],
      "text/markdown": [
       "1. 'Source.PCR.Plate'\n",
       "2. 'Run.ID'\n",
       "3. 'Project.ID'\n",
       "4. 'CGR.Sample.ID'\n",
       "5. 'Sample.Type'\n",
       "6. 'Sample.Des'\n",
       "7. 'Subject.ID'\n",
       "8. 'Reciept'\n",
       "9. 'Ext.Company'\n",
       "10. 'Ext.Kit'\n",
       "11. 'Ext.Robotics'\n",
       "12. 'Homo.Status'\n",
       "13. 'Homo.Method'\n",
       "14. 'Homo.Holder'\n",
       "15. 'input'\n",
       "16. 'filtered'\n",
       "17. 'denoised'\n",
       "18. 'merged'\n",
       "19. 'non.chimeric'\n",
       "20. 'D_0__Archaea'\n",
       "21. 'D_0__Bacteria'\n",
       "22. 'D_0__Eukaryota'\n",
       "23. 'Unassigned'\n",
       "24. 'frac_filtered'\n",
       "\n",
       "\n"
      ],
      "text/plain": [
       " [1] \"Source.PCR.Plate\" \"Run.ID\"           \"Project.ID\"       \"CGR.Sample.ID\"   \n",
       " [5] \"Sample.Type\"      \"Sample.Des\"       \"Subject.ID\"       \"Reciept\"         \n",
       " [9] \"Ext.Company\"      \"Ext.Kit\"          \"Ext.Robotics\"     \"Homo.Status\"     \n",
       "[13] \"Homo.Method\"      \"Homo.Holder\"      \"input\"            \"filtered\"        \n",
       "[17] \"denoised\"         \"merged\"           \"non.chimeric\"     \"D_0__Archaea\"    \n",
       "[21] \"D_0__Bacteria\"    \"D_0__Eukaryota\"   \"Unassigned\"       \"frac_filtered\"   "
      ]
     },
     "metadata": {},
     "output_type": "display_data"
    }
   ],
   "source": [
    "colnames(sample_data(phy_obj))"
   ]
  },
  {
   "cell_type": "code",
   "execution_count": 14,
   "metadata": {},
   "outputs": [
    {
     "data": {
      "text/plain": [
       "phyloseq-class experiment-level object\n",
       "otu_table()   OTU Table:         [ 1818 taxa and 351 samples ]\n",
       "sample_data() Sample Data:       [ 351 samples by 24 sample variables ]\n",
       "tax_table()   Taxonomy Table:    [ 1818 taxa by 7 taxonomic ranks ]\n",
       "phy_tree()    Phylogenetic Tree: [ 1818 tips and 1811 internal nodes ]"
      ]
     },
     "metadata": {},
     "output_type": "display_data"
    }
   ],
   "source": [
    "phy_obj"
   ]
  },
  {
   "cell_type": "markdown",
   "metadata": {},
   "source": [
    "Review alpha metrics before filtering\n",
    "Review metrics for the human samples only"
   ]
  },
  {
   "cell_type": "code",
   "execution_count": 15,
   "metadata": {},
   "outputs": [
    {
     "data": {
      "text/plain": [
       "phyloseq-class experiment-level object\n",
       "otu_table()   OTU Table:         [ 1818 taxa and 160 samples ]\n",
       "sample_data() Sample Data:       [ 160 samples by 24 sample variables ]\n",
       "tax_table()   Taxonomy Table:    [ 1818 taxa by 7 taxonomic ranks ]\n",
       "phy_tree()    Phylogenetic Tree: [ 1818 tips and 1811 internal nodes ]"
      ]
     },
     "metadata": {},
     "output_type": "display_data"
    }
   ],
   "source": []
  },
  {
   "cell_type": "code",
   "execution_count": 16,
   "metadata": {},
   "outputs": [],
   "source": []
  },
  {
   "cell_type": "code",
   "execution_count": 17,
   "metadata": {
    "scrolled": true
   },
   "outputs": [
    {
     "name": "stderr",
     "output_type": "stream",
     "text": [
      "Warning message:\n",
      "\"Removed 7 rows containing non-finite values (stat_boxplot).\"\n"
     ]
    },
    {
     "data": {
      "image/png": "[encoded data removed]",
      "text/plain": [
       "plot without title"
      ]
     },
     "metadata": {
      "image/png": {
       "height": 420,
       "width": 420
      },
      "text/plain": {
       "height": 420,
       "width": 420
      }
     },
     "output_type": "display_data"
    }
   ],
   "source": [
    "#Plot alpha diversity\n",
    "alpha_list = c(\"Observed\",\"ACE\",\"Shannon\",\"Simpson\",\"InvSimpson\")\n",
    "alpha_meas(alpha_list,\"Subject.ID\",\"Ext.Kit\")"
   ]
  },
  {
   "cell_type": "code",
   "execution_count": 18,
   "metadata": {},
   "outputs": [
    {
     "data": {
      "text/html": [
       "<strong>png:</strong> 2"
      ],
      "text/latex": [
       "\\textbf{png:} 2"
      ],
      "text/markdown": [
       "**png:** 2"
      ],
      "text/plain": [
       "png \n",
       "  2 "
      ]
     },
     "metadata": {},
     "output_type": "display_data"
    }
   ],
   "source": [
    "jpeg(paste(proj_dir,\"/output/img/alpha_all.jpg\",sep=\"\"))\n",
    "\n",
    "#Create 2x2 plot environment so that we can see all 4 metrics at once. \n",
    "par(mfrow = c(2, 2))\n",
    "\n",
    "#Then plot each metric.\n",
    "hist((estimate_richness(phy_sub,measures=\"Observed\"))$Observed, main=\"Observed diversity\", xlab=\"\", breaks=10)\n",
    "hist((estimate_richness(phy_sub,measures=\"Shannon\"))$Shannon, main=\"Shannon diversity\", xlab=\"\", breaks=10)\n",
    "hist((estimate_richness(phy_sub,measures=\"Simpson\"))$Simpson, main=\"Simpson diversity\", xlab=\"\", breaks=10)\n",
    "hist((estimate_richness(phy_sub,measures=\"ACE\"))$ACE, main=\"ACE diversity\", xlab=\"\", breaks=10)\n",
    "dev.off()"
   ]
  },
  {
   "cell_type": "markdown",
   "metadata": {},
   "source": [
    "<h2 id=\"3&nbsp;&nbsp;Rarefaction-of-samples\">3&nbsp;&nbsp;Rarefaction of Samples</h2>"
   ]
  },
  {
   "cell_type": "code",
   "execution_count": 19,
   "metadata": {},
   "outputs": [],
   "source": [
    "#Create rarefaction curve\n",
    "rare_curves<-function(phy_in,color_in,filename){\n",
    "    #alt way to plot\n",
    "    #rarecurve(t(otu_table(phy_obj)), step=1000)\n",
    "    \n",
    "    p <- ggrare(phy_in, step = 1000, color = color_in)\n",
    "    png(filename)\n",
    "    print(p)\n",
    "    dev.off()\n",
    "}"
   ]
  },
  {
   "cell_type": "code",
   "execution_count": 20,
   "metadata": {},
   "outputs": [
    {
     "name": "stdout",
     "output_type": "stream",
     "text": [
      "rarefying sample NTC-PC04925-H-12\n",
      "rarefying sample SC249366-PC04925-D-01\n",
      "rarefying sample SC249382-PC04925-F-01\n",
      "rarefying sample SC249387-PC04925-G-01\n",
      "rarefying sample SC249391-PC04925-H-01\n",
      "rarefying sample SC249406\n",
      "rarefying sample SC249408-PC04925-E-02\n",
      "rarefying sample SC249410-PC04925-F-02\n",
      "rarefying sample SC249411-PC04925-G-02\n",
      "rarefying sample SC249414-PC04925-H-02\n",
      "rarefying sample SC249416-PC04925-A-03\n",
      "rarefying sample SC249418-PC04925-B-03\n",
      "rarefying sample SC249419-PC04925-C-03\n",
      "rarefying sample SC249422-PC04925-D-03\n",
      "rarefying sample SC249424-PC04925-E-03\n",
      "rarefying sample SC249426-PC04925-F-03\n",
      "rarefying sample SC249429-PC04925-G-03\n",
      "rarefying sample SC249430-PC04925-H-03\n",
      "rarefying sample SC249431\n",
      "rarefying sample SC249432-PC04925-B-04\n",
      "rarefying sample SC249433-PC04925-C-04\n",
      "rarefying sample SC249435-PC04925-D-04\n",
      "rarefying sample SC249436-PC04925-E-04\n",
      "rarefying sample SC249437-PC04925-F-04\n",
      "rarefying sample SC249440-PC04925-G-04\n",
      "rarefying sample SC249441-PC04925-H-04\n",
      "rarefying sample SC249444\n",
      "rarefying sample SC249445-PC04925-B-05\n",
      "rarefying sample SC249447-PC04925-C-05\n",
      "rarefying sample SC249448-PC04925-A-11\n",
      "rarefying sample SC249448-PC04925-D-05\n",
      "rarefying sample SC249449-PC04925-E-05\n",
      "rarefying sample SC249453-PC04925-F-05\n",
      "rarefying sample SC253181-PC04925-G-05\n",
      "rarefying sample SC253182-PC04925-H-05\n",
      "rarefying sample SC253183-PC04925-A-06\n",
      "rarefying sample SC253184-PC04925-B-06\n",
      "rarefying sample SC253185\n",
      "rarefying sample SC253186-PC04925-D-06\n",
      "rarefying sample SC253188\n",
      "rarefying sample SC253189\n",
      "rarefying sample SC253190-PC04925-G-06\n",
      "rarefying sample SC253190-PC04925-H-06\n",
      "rarefying sample SC253191\n",
      "rarefying sample SC253192\n",
      "rarefying sample SC253193\n",
      "rarefying sample SC253194\n",
      "rarefying sample SC253195-PC04925-E-07\n",
      "rarefying sample SC253196-PC04925-F-07\n",
      "rarefying sample SC253197-PC04925-G-07\n",
      "rarefying sample SC253197-PC04925-H-07\n",
      "rarefying sample SC253199-PC04925-A-08\n",
      "rarefying sample SC253199-PC04925-B-08\n",
      "rarefying sample SC253199-PC04925-E-11\n",
      "rarefying sample SC253200-PC04925-C-08\n",
      "rarefying sample SC253201-PC04925-D-08\n",
      "rarefying sample SC253201-PC04925-E-08\n",
      "rarefying sample SC253203-PC04925-G-08\n",
      "rarefying sample SC253203-PC04925-H-08\n",
      "rarefying sample SC253204\n",
      "rarefying sample SC253843-PC04925-B-09\n",
      "rarefying sample SC253845-PC04925-C-09\n",
      "rarefying sample SC253846-PC04925-D-09\n",
      "rarefying sample SC253847-PC04925-E-09\n",
      "rarefying sample SC253849-PC04925-F-09\n",
      "rarefying sample SC253852-PC04925-G-09\n",
      "rarefying sample SC284730\n",
      "rarefying sample SC284731\n",
      "rarefying sample SC284732\n",
      "rarefying sample SC284733\n",
      "rarefying sample SC284734\n",
      "rarefying sample SC284735\n",
      "rarefying sample NTC-PC22190-F-12\n",
      "rarefying sample SC502441\n",
      "rarefying sample SC502442\n",
      "rarefying sample SC502443\n",
      "rarefying sample SC502444\n",
      "rarefying sample SC502445\n",
      "rarefying sample SC502446\n",
      "rarefying sample SC502447\n",
      "rarefying sample SC502448\n",
      "rarefying sample SC502449\n",
      "rarefying sample SC502450\n",
      "rarefying sample SC502451\n",
      "rarefying sample SC502452\n",
      "rarefying sample SC502453\n",
      "rarefying sample SC502454\n",
      "rarefying sample SC510683\n",
      "rarefying sample SC510684\n",
      "rarefying sample SC552948\n",
      "rarefying sample SC552950\n",
      "rarefying sample SC552952\n",
      "rarefying sample SC552954\n",
      "rarefying sample SC552955\n",
      "rarefying sample SC552957\n",
      "rarefying sample SC552959\n",
      "rarefying sample SC552960\n",
      "rarefying sample SC552961\n",
      "rarefying sample SC552962\n",
      "rarefying sample SC552964\n",
      "rarefying sample SC552966\n",
      "rarefying sample SC552968\n",
      "rarefying sample SC552969\n",
      "rarefying sample SC552971\n",
      "rarefying sample SC552973\n",
      "rarefying sample SC552974\n",
      "rarefying sample SC552975\n",
      "rarefying sample SC552976\n",
      "rarefying sample SC552978\n",
      "rarefying sample SC552980\n",
      "rarefying sample SC552982\n",
      "rarefying sample SC552983\n",
      "rarefying sample SC552987\n",
      "rarefying sample SC552988\n",
      "rarefying sample SC552989\n",
      "rarefying sample SC552990\n",
      "rarefying sample SC552991\n",
      "rarefying sample SC552993\n",
      "rarefying sample SC552995\n",
      "rarefying sample SC552997\n",
      "rarefying sample SC552998\n",
      "rarefying sample SC553000\n",
      "rarefying sample SC553002\n",
      "rarefying sample SC553003\n",
      "rarefying sample SC553004\n",
      "rarefying sample SC553005\n",
      "rarefying sample SC553007\n",
      "rarefying sample SC553009\n",
      "rarefying sample SC553011\n",
      "rarefying sample SC553012\n",
      "rarefying sample SC553014\n",
      "rarefying sample SC553016\n",
      "rarefying sample SC553019\n",
      "rarefying sample SC553021\n",
      "rarefying sample SC553025\n",
      "rarefying sample SC553026\n",
      "rarefying sample SC553030\n",
      "rarefying sample SC553031\n",
      "rarefying sample SC553032\n",
      "rarefying sample SC553033\n",
      "rarefying sample SC553034\n",
      "rarefying sample SC553035\n",
      "rarefying sample SC553036\n",
      "rarefying sample SC553037\n",
      "rarefying sample SC553038\n",
      "rarefying sample SC553039\n",
      "rarefying sample SC553040\n",
      "rarefying sample SC553041\n",
      "rarefying sample SC553042\n",
      "rarefying sample SC553043\n",
      "rarefying sample SC553044\n",
      "rarefying sample SC553045\n",
      "rarefying sample SC553046\n",
      "rarefying sample SC553047\n",
      "rarefying sample SC553048\n",
      "rarefying sample SC553049\n",
      "rarefying sample SC553050\n",
      "rarefying sample SC553051\n",
      "rarefying sample SC553052\n",
      "rarefying sample SC553053\n",
      "rarefying sample SC553054\n",
      "rarefying sample SC553055\n",
      "rarefying sample SC553056\n",
      "rarefying sample SC553057\n",
      "rarefying sample SC553060\n",
      "rarefying sample SC553061\n",
      "rarefying sample SC553062\n",
      "rarefying sample SC553063\n",
      "rarefying sample SC553065\n",
      "rarefying sample SC553066\n",
      "rarefying sample SC553067\n",
      "rarefying sample SC553068\n",
      "rarefying sample SC553069\n",
      "rarefying sample SC553070\n",
      "rarefying sample SC553071\n",
      "rarefying sample SC553072\n",
      "rarefying sample SC553073\n",
      "rarefying sample SC553074\n",
      "rarefying sample SC553075\n",
      "rarefying sample SC553076\n",
      "rarefying sample SC553077\n",
      "rarefying sample SC553078\n",
      "rarefying sample SC553079\n",
      "rarefying sample SC553080\n",
      "rarefying sample SC553082\n",
      "rarefying sample SC553083\n",
      "rarefying sample SC553084\n",
      "rarefying sample SC553085\n",
      "rarefying sample SC553086\n",
      "rarefying sample SC553087\n",
      "rarefying sample SC553089\n",
      "rarefying sample SC553090\n",
      "rarefying sample SC553091\n",
      "rarefying sample SC553093\n",
      "rarefying sample SC553094\n",
      "rarefying sample SC555338\n",
      "rarefying sample SC555339\n",
      "rarefying sample SC555340\n",
      "rarefying sample SC555341\n",
      "rarefying sample SC555342\n",
      "rarefying sample SC555343\n",
      "rarefying sample SC555344\n",
      "rarefying sample SC555345\n",
      "rarefying sample SC555346\n",
      "rarefying sample SC555347\n",
      "rarefying sample SC555348\n",
      "rarefying sample SC555349\n",
      "rarefying sample SC555350\n",
      "rarefying sample SC555351\n",
      "rarefying sample Water-PC22190-E-12\n",
      "rarefying sample SC249360-PC07578-B-09\n",
      "rarefying sample SC249362-PC07578-H-08\n",
      "rarefying sample SC249364\n",
      "rarefying sample SC249365-PC07578-E-09\n",
      "rarefying sample SC249366-PC07578-D-01\n",
      "rarefying sample SC249368-PC07578-C-10\n",
      "rarefying sample SC249382\n",
      "rarefying sample SC249385-PC07578-C-07\n",
      "rarefying sample SC249387-PC07578-G-01\n",
      "rarefying sample SC249391\n",
      "rarefying sample SC249408\n",
      "rarefying sample SC249410\n",
      "rarefying sample SC249411\n",
      "rarefying sample SC249414\n",
      "rarefying sample SC249420-PC07578-H-07\n",
      "rarefying sample SC249421-PC07578-F-02\n",
      "rarefying sample SC249422-PC07578-D-03\n",
      "rarefying sample SC249424\n",
      "rarefying sample SC249426\n",
      "rarefying sample SC249429\n",
      "rarefying sample SC249430\n",
      "rarefying sample SC249433\n",
      "rarefying sample SC249436\n",
      "rarefying sample SC249437\n",
      "rarefying sample SC249439-PC07578-G-07\n",
      "rarefying sample SC249441\n",
      "rarefying sample SC249443-PC07578-E-05\n",
      "rarefying sample SC249448\n",
      "rarefying sample SC249451-PC07578-F-06\n",
      "rarefying sample SC249453\n",
      "rarefying sample SC253181-PC07578-G-05\n",
      "rarefying sample SC253182-PC07578-A-01\n",
      "rarefying sample SC253183-PC07578-D-08\n",
      "rarefying sample SC253184-PC07578-G-06\n",
      "rarefying sample SC253186-PC07578-D-06\n",
      "rarefying sample SC253190\n",
      "rarefying sample SC253195-PC07578-E-07\n",
      "rarefying sample SC253196-PC07578-F-07\n",
      "rarefying sample SC253200-PC07578-C-08\n",
      "rarefying sample SC253201\n",
      "rarefying sample SC253202-PC07578-F-08\n",
      "rarefying sample SC253845\n",
      "rarefying sample SC253846\n",
      "rarefying sample SC304090\n",
      "rarefying sample SC304091\n",
      "rarefying sample SC304092\n",
      "rarefying sample SC304093\n",
      "rarefying sample SC304094\n",
      "rarefying sample SC304095\n",
      "rarefying sample SC304096\n",
      "rarefying sample SC304097\n",
      "rarefying sample SC304098\n",
      "rarefying sample SC304099\n",
      "rarefying sample SC304924-PC07578-A-11\n",
      "rarefying sample SC304924-PC07578-B-07\n",
      "rarefying sample SC304925-PC07578-D-07\n",
      "rarefying sample SC304926\n",
      "rarefying sample SC304927\n",
      "rarefying sample SC304928\n",
      "rarefying sample SC304929\n",
      "rarefying sample SC304930\n",
      "rarefying sample SC304931\n",
      "rarefying sample SC326763\n",
      "rarefying sample SC326764\n",
      "rarefying sample SC326765\n",
      "rarefying sample SC326766\n",
      "rarefying sample SC326767\n",
      "rarefying sample SC326768\n",
      "rarefying sample Water-PC07578-G-12\n",
      "rarefying sample SC249360-PC04924-C-01\n",
      "rarefying sample SC249361-PC04924-D-01\n",
      "rarefying sample SC249362-PC04924-E-01\n",
      "rarefying sample SC249363\n",
      "rarefying sample SC249364-PC04924-G-01\n",
      "rarefying sample SC249365-PC04924-H-01\n",
      "rarefying sample SC249368-PC04924-B-02\n",
      "rarefying sample SC249369-PC04924-C-02\n",
      "rarefying sample SC249382-PC04924-D-02\n",
      "rarefying sample SC249383\n",
      "rarefying sample SC249385-PC04924-G-02\n",
      "rarefying sample SC249388\n",
      "rarefying sample SC249390\n",
      "rarefying sample SC249391-PC04924-D-03\n",
      "rarefying sample SC249393\n",
      "rarefying sample SC249407\n",
      "rarefying sample SC249408-PC04924-C-05\n",
      "rarefying sample SC249409\n",
      "rarefying sample SC249410-PC04924-E-05\n",
      "rarefying sample SC249411-PC04924-F-05\n",
      "rarefying sample SC249412\n",
      "rarefying sample SC249413\n",
      "rarefying sample SC249414-PC04924-A-06\n",
      "rarefying sample SC249416-PC04924-C-06\n",
      "rarefying sample SC249417\n",
      "rarefying sample SC249418-PC04924-E-06\n",
      "rarefying sample SC249419-PC04924-F-06\n",
      "rarefying sample SC249420-PC04924-G-06\n",
      "rarefying sample SC249421-PC04924-H-06\n",
      "rarefying sample SC249424-PC04924-B-07\n",
      "rarefying sample SC249425\n",
      "rarefying sample SC249426-PC04924-D-07\n",
      "rarefying sample SC249427\n",
      "rarefying sample SC249428\n",
      "rarefying sample SC249429-PC04924-G-07\n",
      "rarefying sample SC249430-PC04924-H-07\n",
      "rarefying sample SC249432-PC04924-A-08\n",
      "rarefying sample SC249433-PC04924-B-08\n",
      "rarefying sample SC249434\n",
      "rarefying sample SC249435-PC04924-D-08\n",
      "rarefying sample SC249436-PC04924-E-08\n",
      "rarefying sample SC249437-PC04924-F-08\n",
      "rarefying sample SC249438\n",
      "rarefying sample SC249439-PC04924-H-08\n",
      "rarefying sample SC249440-PC04924-A-09\n",
      "rarefying sample SC249441-PC04924-B-09\n",
      "rarefying sample SC249442\n",
      "rarefying sample SC249443-PC04924-D-09\n",
      "rarefying sample SC249445-PC04924-E-09\n",
      "rarefying sample SC249446\n",
      "rarefying sample SC249447-PC04924-G-09\n",
      "rarefying sample SC249448-PC04924-H-09\n",
      "rarefying sample SC249449-PC04924-A-10\n",
      "rarefying sample SC249451-PC04924-C-10\n",
      "rarefying sample SC249452\n",
      "rarefying sample SC249453-PC04924-E-10\n",
      "rarefying sample SC253843-PC04924-F-10\n",
      "rarefying sample SC253844\n",
      "rarefying sample SC253845-PC04924-H-10\n",
      "rarefying sample SC253846-PC04924-A-11\n",
      "rarefying sample SC253847-PC04924-B-11\n",
      "rarefying sample SC253848\n",
      "rarefying sample SC253849-PC04924-D-11\n",
      "rarefying sample SC253851\n",
      "rarefying sample SC253853\n",
      "rarefying sample SC253854\n",
      "rarefying sample SC284724\n",
      "rarefying sample SC284725\n",
      "rarefying sample SC284726\n",
      "rarefying sample SC284727\n",
      "rarefying sample SC284728\n",
      "rarefying sample SC284729\n"
     ]
    },
    {
     "data": {
      "text/html": [
       "<strong>png:</strong> 2"
      ],
      "text/latex": [
       "\\textbf{png:} 2"
      ],
      "text/markdown": [
       "**png:** 2"
      ],
      "text/plain": [
       "png \n",
       "  2 "
      ]
     },
     "metadata": {},
     "output_type": "display_data"
    },
    {
     "data": {
      "image/png": "[encoded data removed]",
      "text/plain": [
       "plot without title"
      ]
     },
     "metadata": {
      "image/png": {
       "height": 420,
       "width": 420
      },
      "text/plain": {
       "height": 420,
       "width": 420
      }
     },
     "output_type": "display_data"
    }
   ],
   "source": [
    "rare_curves(phy_obj,\"Sample.Type\",paste(proj_dir,\"output/img/rarecurve_pre.png\",sep=\"\"))"
   ]
  },
  {
   "cell_type": "code",
   "execution_count": 21,
   "metadata": {},
   "outputs": [],
   "source": [
    "#Will determine how many samples would be present if raryfied to the number list provided\n",
    "rare_values<-function(phy_in,read_in){\n",
    "    df<-data.frame()\n",
    "    for (i in read_in){\n",
    "        sam_count = sum(metadata$non.chimeric>i)\n",
    "\n",
    "        df[nrow(df)+1,\"rarefaction_level\"] = i\n",
    "        df[nrow(df),\"sample_count\"] = sam_count\n",
    "        df[nrow(df),\"samples_dropped\"] = 351-sam_count\n",
    "        df[nrow(df),\"per_samples_retained\"] = (sam_count/351)*100\n",
    "        if(nrow(df)>1){df[nrow(df),\"per_diff\"] = ((df[nrow(df)-1,\"sample_count\"]-df[nrow(df),\"sample_count\"])/df[nrow(df)-1,\"sample_count\"])*100}\n",
    "        df[nrow(df),\"study\"] = sum(metadata$Sample.Type==\"Study\" & metadata$non.chimeric>i)\n",
    "        df[nrow(df),\"ext_cont\"] = sum(metadata$Sample.Type==\"Ext_Control\" & metadata$non.chimeric>i)\n",
    "        df[nrow(df),\"ext_blank\"] = sum(metadata$Subject.ID==\"Water\" & metadata$non.chimeric>i)\n",
    "        df[nrow(df),\"seq_cont\"] = sum(metadata$Sample.Type==\"Seq_Control\" & metadata$non.chimeric>i)\n",
    "        df[nrow(df),\"study_rem\"] = sum(metadata$Sample.Type==\"Study\") - sum(metadata$Sample.Type==\"Study\" & metadata$non.chimeric>i)\n",
    "        df[nrow(df),\"ext_cont_rem\"] = sum(metadata$Sample.Type==\"Ext_Control\") - sum(metadata$Sample.Type==\"Ext_Control\" & metadata$non.chimeric>i)\n",
    "        df[nrow(df),\"seq_cont_rem\"] = sum(metadata$Sample.Type==\"Seq_Control\") - sum(metadata$Sample.Type==\"Seq_Control\" & metadata$non.chimeric>i)\n",
    "    }\n",
    "    return (df)\n",
    "}"
   ]
  },
  {
   "cell_type": "code",
   "execution_count": 22,
   "metadata": {
    "scrolled": true
   },
   "outputs": [
    {
     "data": {
      "text/html": [
       "<table>\n",
       "<caption>A data.frame: 6 × 12</caption>\n",
       "<thead>\n",
       "\t<tr><th></th><th scope=col>rarefaction_level</th><th scope=col>sample_count</th><th scope=col>samples_dropped</th><th scope=col>per_samples_retained</th><th scope=col>study</th><th scope=col>ext_cont</th><th scope=col>ext_blank</th><th scope=col>seq_cont</th><th scope=col>study_rem</th><th scope=col>ext_cont_rem</th><th scope=col>seq_cont_rem</th><th scope=col>per_diff</th></tr>\n",
       "\t<tr><th></th><th scope=col>&lt;dbl&gt;</th><th scope=col>&lt;int&gt;</th><th scope=col>&lt;dbl&gt;</th><th scope=col>&lt;dbl&gt;</th><th scope=col>&lt;int&gt;</th><th scope=col>&lt;int&gt;</th><th scope=col>&lt;int&gt;</th><th scope=col>&lt;int&gt;</th><th scope=col>&lt;int&gt;</th><th scope=col>&lt;int&gt;</th><th scope=col>&lt;int&gt;</th><th scope=col>&lt;dbl&gt;</th></tr>\n",
       "</thead>\n",
       "<tbody>\n",
       "\t<tr><th scope=row>1</th><td>    0</td><td>351</td><td>  0</td><td>100.00000</td><td>160</td><td>155</td><td>50</td><td>36</td><td> 0</td><td> 0</td><td> 0</td><td>       NA</td></tr>\n",
       "\t<tr><th scope=row>2</th><td> 1000</td><td>293</td><td> 58</td><td> 83.47578</td><td>135</td><td>127</td><td>28</td><td>31</td><td>25</td><td>28</td><td> 5</td><td>16.524217</td></tr>\n",
       "\t<tr><th scope=row>3</th><td>10000</td><td>287</td><td> 64</td><td> 81.76638</td><td>135</td><td>121</td><td>24</td><td>31</td><td>25</td><td>34</td><td> 5</td><td> 2.047782</td></tr>\n",
       "\t<tr><th scope=row>4</th><td>20000</td><td>282</td><td> 69</td><td> 80.34188</td><td>135</td><td>117</td><td>21</td><td>30</td><td>25</td><td>38</td><td> 6</td><td> 1.742160</td></tr>\n",
       "\t<tr><th scope=row>5</th><td>30000</td><td>268</td><td> 83</td><td> 76.35328</td><td>132</td><td>110</td><td>21</td><td>26</td><td>28</td><td>45</td><td>10</td><td> 4.964539</td></tr>\n",
       "\t<tr><th scope=row>6</th><td>40000</td><td>215</td><td>136</td><td> 61.25356</td><td>112</td><td> 83</td><td>15</td><td>20</td><td>48</td><td>72</td><td>16</td><td>19.776119</td></tr>\n",
       "</tbody>\n",
       "</table>\n"
      ],
      "text/latex": [
       "A data.frame: 6 × 12\n",
       "\\begin{tabular}{r|llllllllllll}\n",
       "  & rarefaction\\_level & sample\\_count & samples\\_dropped & per\\_samples\\_retained & study & ext\\_cont & ext\\_blank & seq\\_cont & study\\_rem & ext\\_cont\\_rem & seq\\_cont\\_rem & per\\_diff\\\\\n",
       "  & <dbl> & <int> & <dbl> & <dbl> & <int> & <int> & <int> & <int> & <int> & <int> & <int> & <dbl>\\\\\n",
       "\\hline\n",
       "\t1 &     0 & 351 &   0 & 100.00000 & 160 & 155 & 50 & 36 &  0 &  0 &  0 &        NA\\\\\n",
       "\t2 &  1000 & 293 &  58 &  83.47578 & 135 & 127 & 28 & 31 & 25 & 28 &  5 & 16.524217\\\\\n",
       "\t3 & 10000 & 287 &  64 &  81.76638 & 135 & 121 & 24 & 31 & 25 & 34 &  5 &  2.047782\\\\\n",
       "\t4 & 20000 & 282 &  69 &  80.34188 & 135 & 117 & 21 & 30 & 25 & 38 &  6 &  1.742160\\\\\n",
       "\t5 & 30000 & 268 &  83 &  76.35328 & 132 & 110 & 21 & 26 & 28 & 45 & 10 &  4.964539\\\\\n",
       "\t6 & 40000 & 215 & 136 &  61.25356 & 112 &  83 & 15 & 20 & 48 & 72 & 16 & 19.776119\\\\\n",
       "\\end{tabular}\n"
      ],
      "text/markdown": [
       "\n",
       "A data.frame: 6 × 12\n",
       "\n",
       "| <!--/--> | rarefaction_level &lt;dbl&gt; | sample_count &lt;int&gt; | samples_dropped &lt;dbl&gt; | per_samples_retained &lt;dbl&gt; | study &lt;int&gt; | ext_cont &lt;int&gt; | ext_blank &lt;int&gt; | seq_cont &lt;int&gt; | study_rem &lt;int&gt; | ext_cont_rem &lt;int&gt; | seq_cont_rem &lt;int&gt; | per_diff &lt;dbl&gt; |\n",
       "|---|---|---|---|---|---|---|---|---|---|---|---|---|\n",
       "| 1 |     0 | 351 |   0 | 100.00000 | 160 | 155 | 50 | 36 |  0 |  0 |  0 |        NA |\n",
       "| 2 |  1000 | 293 |  58 |  83.47578 | 135 | 127 | 28 | 31 | 25 | 28 |  5 | 16.524217 |\n",
       "| 3 | 10000 | 287 |  64 |  81.76638 | 135 | 121 | 24 | 31 | 25 | 34 |  5 |  2.047782 |\n",
       "| 4 | 20000 | 282 |  69 |  80.34188 | 135 | 117 | 21 | 30 | 25 | 38 |  6 |  1.742160 |\n",
       "| 5 | 30000 | 268 |  83 |  76.35328 | 132 | 110 | 21 | 26 | 28 | 45 | 10 |  4.964539 |\n",
       "| 6 | 40000 | 215 | 136 |  61.25356 | 112 |  83 | 15 | 20 | 48 | 72 | 16 | 19.776119 |\n",
       "\n"
      ],
      "text/plain": [
       "  rarefaction_level sample_count samples_dropped per_samples_retained study\n",
       "1     0             351            0             100.00000            160  \n",
       "2  1000             293           58              83.47578            135  \n",
       "3 10000             287           64              81.76638            135  \n",
       "4 20000             282           69              80.34188            135  \n",
       "5 30000             268           83              76.35328            132  \n",
       "6 40000             215          136              61.25356            112  \n",
       "  ext_cont ext_blank seq_cont study_rem ext_cont_rem seq_cont_rem per_diff \n",
       "1 155      50        36        0         0            0                  NA\n",
       "2 127      28        31       25        28            5           16.524217\n",
       "3 121      24        31       25        34            5            2.047782\n",
       "4 117      21        30       25        38            6            1.742160\n",
       "5 110      21        26       28        45           10            4.964539\n",
       "6  83      15        20       48        72           16           19.776119"
      ]
     },
     "metadata": {},
     "output_type": "display_data"
    }
   ],
   "source": [
    "#Start with large chunks for rare numbers\n",
    "#read_list = seq(10000,60000,1000)\n",
    "read_list = c(0,1000,10000,20000,30000,40000)\n",
    "df_rare = rare_values(phy_obj,read_list)\n",
    "df_rare"
   ]
  },
  {
   "cell_type": "code",
   "execution_count": 23,
   "metadata": {
    "scrolled": false
   },
   "outputs": [
    {
     "name": "stderr",
     "output_type": "stream",
     "text": [
      "`set.seed(1)` was used to initialize repeatable random subsampling.\n",
      "\n",
      "Please record this for your records so others can reproduce.\n",
      "\n",
      "Try `set.seed(1); .Random.seed` for the full vector\n",
      "\n",
      "...\n",
      "\n",
      "69 samples removedbecause they contained fewer reads than `sample.size`.\n",
      "\n",
      "Up to first five removed samples are: \n",
      "\n",
      "\n",
      "NTC-PC04925-H-12SC249366-PC04925-D-01SC249382-PC04925-F-01SC249406SC249416-PC04925-A-03\n",
      "\n",
      "...\n",
      "\n",
      "611OTUs were removed because they are no longer \n",
      "present in any sample after random subsampling\n",
      "\n",
      "\n",
      "...\n",
      "\n"
     ]
    }
   ],
   "source": [
    "#rareyfy the dataset\n",
    "phy_r = rarefy_even_depth(phy_obj, rngseed=1, sample.size=20000, replace=F) \n",
    "\n",
    "#sample.size=0.9*min(sample_sums(phy_fr) #alt way to decide the sample size\n",
    "#phy_r = phy_obj %>% scale_reads(n=rare_val) #alt way to scale reads"
   ]
  },
  {
   "cell_type": "code",
   "execution_count": 24,
   "metadata": {},
   "outputs": [
    {
     "name": "stdout",
     "output_type": "stream",
     "text": [
      "rarefying sample SC249387-PC04925-G-01\n",
      "rarefying sample SC249391-PC04925-H-01\n",
      "rarefying sample SC249408-PC04925-E-02\n",
      "rarefying sample SC249410-PC04925-F-02\n",
      "rarefying sample SC249411-PC04925-G-02\n",
      "rarefying sample SC249414-PC04925-H-02\n",
      "rarefying sample SC249418-PC04925-B-03\n",
      "rarefying sample SC249419-PC04925-C-03\n",
      "rarefying sample SC249424-PC04925-E-03\n",
      "rarefying sample SC249426-PC04925-F-03\n",
      "rarefying sample SC249429-PC04925-G-03\n",
      "rarefying sample SC249430-PC04925-H-03\n",
      "rarefying sample SC249432-PC04925-B-04\n",
      "rarefying sample SC249433-PC04925-C-04\n",
      "rarefying sample SC249435-PC04925-D-04\n",
      "rarefying sample SC249436-PC04925-E-04\n",
      "rarefying sample SC249437-PC04925-F-04\n",
      "rarefying sample SC249440-PC04925-G-04\n",
      "rarefying sample SC249441-PC04925-H-04\n",
      "rarefying sample SC249444\n",
      "rarefying sample SC249445-PC04925-B-05\n",
      "rarefying sample SC249447-PC04925-C-05\n",
      "rarefying sample SC249448-PC04925-A-11\n",
      "rarefying sample SC249448-PC04925-D-05\n",
      "rarefying sample SC249449-PC04925-E-05\n",
      "rarefying sample SC249453-PC04925-F-05\n",
      "rarefying sample SC253181-PC04925-G-05\n",
      "rarefying sample SC253182-PC04925-H-05\n",
      "rarefying sample SC253183-PC04925-A-06\n",
      "rarefying sample SC253184-PC04925-B-06\n",
      "rarefying sample SC253185\n",
      "rarefying sample SC253186-PC04925-D-06\n",
      "rarefying sample SC253188\n",
      "rarefying sample SC253189\n",
      "rarefying sample SC253190-PC04925-G-06\n",
      "rarefying sample SC253190-PC04925-H-06\n",
      "rarefying sample SC253192\n",
      "rarefying sample SC253193\n",
      "rarefying sample SC253194\n",
      "rarefying sample SC253195-PC04925-E-07\n",
      "rarefying sample SC253196-PC04925-F-07\n",
      "rarefying sample SC253197-PC04925-G-07\n",
      "rarefying sample SC253197-PC04925-H-07\n",
      "rarefying sample SC253199-PC04925-A-08\n",
      "rarefying sample SC253199-PC04925-B-08\n",
      "rarefying sample SC253199-PC04925-E-11\n",
      "rarefying sample SC253200-PC04925-C-08\n",
      "rarefying sample SC253201-PC04925-D-08\n",
      "rarefying sample SC253201-PC04925-E-08\n",
      "rarefying sample SC253203-PC04925-G-08\n",
      "rarefying sample SC253203-PC04925-H-08\n",
      "rarefying sample SC253204\n",
      "rarefying sample SC253846-PC04925-D-09\n",
      "rarefying sample SC284730\n",
      "rarefying sample SC284731\n",
      "rarefying sample SC284732\n",
      "rarefying sample SC284733\n",
      "rarefying sample SC284734\n",
      "rarefying sample SC284735\n",
      "rarefying sample SC502441\n",
      "rarefying sample SC502443\n",
      "rarefying sample SC502444\n",
      "rarefying sample SC502447\n",
      "rarefying sample SC502448\n",
      "rarefying sample SC502451\n",
      "rarefying sample SC502452\n",
      "rarefying sample SC502453\n",
      "rarefying sample SC502454\n",
      "rarefying sample SC510683\n",
      "rarefying sample SC510684\n",
      "rarefying sample SC552948\n",
      "rarefying sample SC552950\n",
      "rarefying sample SC552952\n",
      "rarefying sample SC552954\n",
      "rarefying sample SC552955\n",
      "rarefying sample SC552957\n",
      "rarefying sample SC552959\n",
      "rarefying sample SC552960\n",
      "rarefying sample SC552961\n",
      "rarefying sample SC552964\n",
      "rarefying sample SC552966\n",
      "rarefying sample SC552969\n",
      "rarefying sample SC552971\n",
      "rarefying sample SC552974\n",
      "rarefying sample SC552975\n",
      "rarefying sample SC552978\n",
      "rarefying sample SC552982\n",
      "rarefying sample SC552987\n",
      "rarefying sample SC552988\n",
      "rarefying sample SC552990\n",
      "rarefying sample SC552991\n",
      "rarefying sample SC552993\n",
      "rarefying sample SC552995\n",
      "rarefying sample SC552997\n",
      "rarefying sample SC553000\n",
      "rarefying sample SC553002\n",
      "rarefying sample SC553003\n",
      "rarefying sample SC553004\n",
      "rarefying sample SC553007\n",
      "rarefying sample SC553009\n",
      "rarefying sample SC553021\n",
      "rarefying sample SC553025\n",
      "rarefying sample SC553030\n",
      "rarefying sample SC553031\n",
      "rarefying sample SC553032\n",
      "rarefying sample SC553033\n",
      "rarefying sample SC553034\n",
      "rarefying sample SC553035\n",
      "rarefying sample SC553037\n",
      "rarefying sample SC553038\n",
      "rarefying sample SC553039\n",
      "rarefying sample SC553041\n",
      "rarefying sample SC553042\n",
      "rarefying sample SC553043\n",
      "rarefying sample SC553045\n",
      "rarefying sample SC553046\n",
      "rarefying sample SC553048\n",
      "rarefying sample SC553049\n",
      "rarefying sample SC553050\n",
      "rarefying sample SC553051\n",
      "rarefying sample SC553053\n",
      "rarefying sample SC553054\n",
      "rarefying sample SC553055\n",
      "rarefying sample SC553057\n",
      "rarefying sample SC553061\n",
      "rarefying sample SC553065\n",
      "rarefying sample SC553066\n",
      "rarefying sample SC553068\n",
      "rarefying sample SC553069\n",
      "rarefying sample SC553070\n",
      "rarefying sample SC553071\n",
      "rarefying sample SC553072\n",
      "rarefying sample SC553073\n",
      "rarefying sample SC553074\n",
      "rarefying sample SC553075\n",
      "rarefying sample SC553076\n",
      "rarefying sample SC553077\n",
      "rarefying sample SC553078\n",
      "rarefying sample SC553083\n",
      "rarefying sample SC553084\n",
      "rarefying sample SC553085\n",
      "rarefying sample SC553087\n",
      "rarefying sample SC553089\n",
      "rarefying sample SC553091\n",
      "rarefying sample SC553093\n",
      "rarefying sample SC555339\n",
      "rarefying sample SC555340\n",
      "rarefying sample SC555341\n",
      "rarefying sample SC555342\n",
      "rarefying sample SC555343\n",
      "rarefying sample SC555344\n",
      "rarefying sample SC555345\n",
      "rarefying sample SC555346\n",
      "rarefying sample SC555347\n",
      "rarefying sample SC555348\n",
      "rarefying sample SC555349\n",
      "rarefying sample SC555350\n",
      "rarefying sample SC555351\n",
      "rarefying sample SC249360-PC07578-B-09\n",
      "rarefying sample SC249362-PC07578-H-08\n",
      "rarefying sample SC249365-PC07578-E-09\n",
      "rarefying sample SC249368-PC07578-C-10\n",
      "rarefying sample SC249382\n",
      "rarefying sample SC249385-PC07578-C-07\n",
      "rarefying sample SC249387-PC07578-G-01\n",
      "rarefying sample SC249408\n",
      "rarefying sample SC249410\n",
      "rarefying sample SC249411\n",
      "rarefying sample SC249414\n",
      "rarefying sample SC249420-PC07578-H-07\n",
      "rarefying sample SC249421-PC07578-F-02\n",
      "rarefying sample SC249424\n",
      "rarefying sample SC249426\n",
      "rarefying sample SC249429\n",
      "rarefying sample SC249430\n",
      "rarefying sample SC249433\n",
      "rarefying sample SC249436\n",
      "rarefying sample SC249437\n",
      "rarefying sample SC249439-PC07578-G-07\n",
      "rarefying sample SC249441\n",
      "rarefying sample SC249443-PC07578-E-05\n",
      "rarefying sample SC249448\n",
      "rarefying sample SC249451-PC07578-F-06\n",
      "rarefying sample SC249453\n",
      "rarefying sample SC253181-PC07578-G-05\n",
      "rarefying sample SC253182-PC07578-A-01\n",
      "rarefying sample SC253183-PC07578-D-08\n",
      "rarefying sample SC253184-PC07578-G-06\n",
      "rarefying sample SC253186-PC07578-D-06\n",
      "rarefying sample SC253195-PC07578-E-07\n",
      "rarefying sample SC253196-PC07578-F-07\n",
      "rarefying sample SC253200-PC07578-C-08\n",
      "rarefying sample SC253201\n",
      "rarefying sample SC253202-PC07578-F-08\n",
      "rarefying sample SC253845\n",
      "rarefying sample SC253846\n",
      "rarefying sample SC304090\n",
      "rarefying sample SC304092\n",
      "rarefying sample SC304093\n",
      "rarefying sample SC304094\n",
      "rarefying sample SC304095\n",
      "rarefying sample SC304096\n",
      "rarefying sample SC304097\n",
      "rarefying sample SC304098\n",
      "rarefying sample SC304099\n",
      "rarefying sample SC304924-PC07578-A-11\n",
      "rarefying sample SC304924-PC07578-B-07\n",
      "rarefying sample SC304926\n",
      "rarefying sample SC304927\n",
      "rarefying sample SC304928\n",
      "rarefying sample SC304929\n",
      "rarefying sample SC304930\n",
      "rarefying sample SC304931\n",
      "rarefying sample SC326764\n",
      "rarefying sample SC326765\n",
      "rarefying sample SC326766\n",
      "rarefying sample SC326767\n",
      "rarefying sample SC326768\n",
      "rarefying sample SC249360-PC04924-C-01\n",
      "rarefying sample SC249362-PC04924-E-01\n",
      "rarefying sample SC249363\n",
      "rarefying sample SC249365-PC04924-H-01\n",
      "rarefying sample SC249368-PC04924-B-02\n",
      "rarefying sample SC249382-PC04924-D-02\n",
      "rarefying sample SC249383\n",
      "rarefying sample SC249385-PC04924-G-02\n",
      "rarefying sample SC249388\n",
      "rarefying sample SC249390\n",
      "rarefying sample SC249391-PC04924-D-03\n",
      "rarefying sample SC249393\n",
      "rarefying sample SC249407\n",
      "rarefying sample SC249408-PC04924-C-05\n",
      "rarefying sample SC249409\n",
      "rarefying sample SC249410-PC04924-E-05\n",
      "rarefying sample SC249411-PC04924-F-05\n",
      "rarefying sample SC249412\n",
      "rarefying sample SC249413\n",
      "rarefying sample SC249414-PC04924-A-06\n",
      "rarefying sample SC249417\n",
      "rarefying sample SC249418-PC04924-E-06\n",
      "rarefying sample SC249419-PC04924-F-06\n",
      "rarefying sample SC249420-PC04924-G-06\n",
      "rarefying sample SC249421-PC04924-H-06\n",
      "rarefying sample SC249424-PC04924-B-07\n",
      "rarefying sample SC249425\n",
      "rarefying sample SC249426-PC04924-D-07\n",
      "rarefying sample SC249427\n",
      "rarefying sample SC249428\n",
      "rarefying sample SC249429-PC04924-G-07\n",
      "rarefying sample SC249430-PC04924-H-07\n",
      "rarefying sample SC249432-PC04924-A-08\n",
      "rarefying sample SC249433-PC04924-B-08\n",
      "rarefying sample SC249434\n",
      "rarefying sample SC249435-PC04924-D-08\n",
      "rarefying sample SC249436-PC04924-E-08\n",
      "rarefying sample SC249437-PC04924-F-08\n",
      "rarefying sample SC249438\n",
      "rarefying sample SC249439-PC04924-H-08\n",
      "rarefying sample SC249440-PC04924-A-09\n",
      "rarefying sample SC249441-PC04924-B-09\n",
      "rarefying sample SC249442\n",
      "rarefying sample SC249443-PC04924-D-09\n",
      "rarefying sample SC249445-PC04924-E-09\n",
      "rarefying sample SC249446\n",
      "rarefying sample SC249447-PC04924-G-09\n",
      "rarefying sample SC249448-PC04924-H-09\n",
      "rarefying sample SC249449-PC04924-A-10\n",
      "rarefying sample SC249451-PC04924-C-10\n",
      "rarefying sample SC249452\n",
      "rarefying sample SC249453-PC04924-E-10\n",
      "rarefying sample SC253844\n",
      "rarefying sample SC253845-PC04924-H-10\n",
      "rarefying sample SC253846-PC04924-A-11\n",
      "rarefying sample SC253848\n",
      "rarefying sample SC253851\n",
      "rarefying sample SC253854\n",
      "rarefying sample SC284724\n",
      "rarefying sample SC284725\n",
      "rarefying sample SC284726\n",
      "rarefying sample SC284727\n",
      "rarefying sample SC284728\n",
      "rarefying sample SC284729\n"
     ]
    },
    {
     "data": {
      "text/html": [
       "<strong>png:</strong> 2"
      ],
      "text/latex": [
       "\\textbf{png:} 2"
      ],
      "text/markdown": [
       "**png:** 2"
      ],
      "text/plain": [
       "png \n",
       "  2 "
      ]
     },
     "metadata": {},
     "output_type": "display_data"
    },
    {
     "data": {
      "image/png": "[encoded data removed]",
      "text/plain": [
       "plot without title"
      ]
     },
     "metadata": {
      "image/png": {
       "height": 420,
       "width": 420
      },
      "text/plain": {
       "height": 420,
       "width": 420
      }
     },
     "output_type": "display_data"
    }
   ],
   "source": [
    "rare_curves(phy_r,\"Sample.Type\",paste(proj_dir,\"output/img/rarecurve_post.png\",sep=\"\"))"
   ]
  },
  {
   "cell_type": "code",
   "execution_count": 25,
   "metadata": {
    "scrolled": true
   },
   "outputs": [
    {
     "name": "stdout",
     "output_type": "stream",
     "text": [
      "rarefying sample SC249387-PC04925-G-01\n",
      "rarefying sample SC249391-PC04925-H-01\n",
      "rarefying sample SC249408-PC04925-E-02\n",
      "rarefying sample SC249410-PC04925-F-02\n",
      "rarefying sample SC249411-PC04925-G-02\n",
      "rarefying sample SC249414-PC04925-H-02\n",
      "rarefying sample SC249418-PC04925-B-03\n",
      "rarefying sample SC249419-PC04925-C-03\n",
      "rarefying sample SC249424-PC04925-E-03\n",
      "rarefying sample SC249426-PC04925-F-03\n",
      "rarefying sample SC249429-PC04925-G-03\n",
      "rarefying sample SC249430-PC04925-H-03\n",
      "rarefying sample SC249432-PC04925-B-04\n",
      "rarefying sample SC249433-PC04925-C-04\n",
      "rarefying sample SC249435-PC04925-D-04\n",
      "rarefying sample SC249436-PC04925-E-04\n",
      "rarefying sample SC249437-PC04925-F-04\n",
      "rarefying sample SC249440-PC04925-G-04\n",
      "rarefying sample SC249441-PC04925-H-04\n",
      "rarefying sample SC249444\n",
      "rarefying sample SC249445-PC04925-B-05\n",
      "rarefying sample SC249447-PC04925-C-05\n",
      "rarefying sample SC249448-PC04925-A-11\n",
      "rarefying sample SC249448-PC04925-D-05\n",
      "rarefying sample SC249449-PC04925-E-05\n",
      "rarefying sample SC249453-PC04925-F-05\n",
      "rarefying sample SC253181-PC04925-G-05\n",
      "rarefying sample SC253182-PC04925-H-05\n",
      "rarefying sample SC253183-PC04925-A-06\n",
      "rarefying sample SC253184-PC04925-B-06\n",
      "rarefying sample SC253185\n",
      "rarefying sample SC253186-PC04925-D-06\n",
      "rarefying sample SC253188\n",
      "rarefying sample SC253189\n",
      "rarefying sample SC253190-PC04925-G-06\n",
      "rarefying sample SC253190-PC04925-H-06\n",
      "rarefying sample SC253192\n",
      "rarefying sample SC253193\n",
      "rarefying sample SC253194\n",
      "rarefying sample SC253195-PC04925-E-07\n",
      "rarefying sample SC253196-PC04925-F-07\n",
      "rarefying sample SC253197-PC04925-G-07\n",
      "rarefying sample SC253197-PC04925-H-07\n",
      "rarefying sample SC253199-PC04925-A-08\n",
      "rarefying sample SC253199-PC04925-B-08\n",
      "rarefying sample SC253199-PC04925-E-11\n",
      "rarefying sample SC253200-PC04925-C-08\n",
      "rarefying sample SC253201-PC04925-D-08\n",
      "rarefying sample SC253201-PC04925-E-08\n",
      "rarefying sample SC253203-PC04925-G-08\n",
      "rarefying sample SC253203-PC04925-H-08\n",
      "rarefying sample SC253204\n",
      "rarefying sample SC253846-PC04925-D-09\n",
      "rarefying sample SC284730\n",
      "rarefying sample SC284731\n",
      "rarefying sample SC284732\n",
      "rarefying sample SC284733\n",
      "rarefying sample SC284734\n",
      "rarefying sample SC284735\n",
      "rarefying sample SC502441\n",
      "rarefying sample SC502443\n",
      "rarefying sample SC502444\n",
      "rarefying sample SC502447\n",
      "rarefying sample SC502448\n",
      "rarefying sample SC502451\n",
      "rarefying sample SC502452\n",
      "rarefying sample SC502453\n",
      "rarefying sample SC502454\n",
      "rarefying sample SC510683\n",
      "rarefying sample SC510684\n",
      "rarefying sample SC552948\n",
      "rarefying sample SC552950\n",
      "rarefying sample SC552952\n",
      "rarefying sample SC552954\n",
      "rarefying sample SC552955\n",
      "rarefying sample SC552957\n",
      "rarefying sample SC552959\n",
      "rarefying sample SC552960\n",
      "rarefying sample SC552961\n",
      "rarefying sample SC552964\n",
      "rarefying sample SC552966\n",
      "rarefying sample SC552969\n",
      "rarefying sample SC552971\n",
      "rarefying sample SC552974\n",
      "rarefying sample SC552975\n",
      "rarefying sample SC552978\n",
      "rarefying sample SC552982\n",
      "rarefying sample SC552987\n",
      "rarefying sample SC552988\n",
      "rarefying sample SC552990\n",
      "rarefying sample SC552991\n",
      "rarefying sample SC552993\n",
      "rarefying sample SC552995\n",
      "rarefying sample SC552997\n",
      "rarefying sample SC553000\n",
      "rarefying sample SC553002\n",
      "rarefying sample SC553003\n",
      "rarefying sample SC553004\n",
      "rarefying sample SC553007\n",
      "rarefying sample SC553009\n",
      "rarefying sample SC553021\n",
      "rarefying sample SC553025\n",
      "rarefying sample SC553030\n",
      "rarefying sample SC553031\n",
      "rarefying sample SC553032\n",
      "rarefying sample SC553033\n",
      "rarefying sample SC553034\n",
      "rarefying sample SC553035\n",
      "rarefying sample SC553037\n",
      "rarefying sample SC553038\n",
      "rarefying sample SC553039\n",
      "rarefying sample SC553041\n",
      "rarefying sample SC553042\n",
      "rarefying sample SC553043\n",
      "rarefying sample SC553045\n",
      "rarefying sample SC553046\n",
      "rarefying sample SC553048\n",
      "rarefying sample SC553049\n",
      "rarefying sample SC553050\n",
      "rarefying sample SC553051\n",
      "rarefying sample SC553053\n",
      "rarefying sample SC553054\n",
      "rarefying sample SC553055\n",
      "rarefying sample SC553057\n",
      "rarefying sample SC553061\n",
      "rarefying sample SC553065\n",
      "rarefying sample SC553066\n",
      "rarefying sample SC553068\n",
      "rarefying sample SC553069\n",
      "rarefying sample SC553070\n",
      "rarefying sample SC553071\n",
      "rarefying sample SC553072\n",
      "rarefying sample SC553073\n",
      "rarefying sample SC553074\n",
      "rarefying sample SC553075\n",
      "rarefying sample SC553076\n",
      "rarefying sample SC553077\n",
      "rarefying sample SC553078\n",
      "rarefying sample SC553083\n",
      "rarefying sample SC553084\n",
      "rarefying sample SC553085\n",
      "rarefying sample SC553087\n",
      "rarefying sample SC553089\n",
      "rarefying sample SC553091\n",
      "rarefying sample SC553093\n",
      "rarefying sample SC555339\n",
      "rarefying sample SC555340\n",
      "rarefying sample SC555341\n",
      "rarefying sample SC555342\n",
      "rarefying sample SC555343\n",
      "rarefying sample SC555344\n",
      "rarefying sample SC555345\n",
      "rarefying sample SC555346\n",
      "rarefying sample SC555347\n",
      "rarefying sample SC555348\n",
      "rarefying sample SC555349\n",
      "rarefying sample SC555350\n",
      "rarefying sample SC555351\n",
      "rarefying sample SC249360-PC07578-B-09\n",
      "rarefying sample SC249362-PC07578-H-08\n",
      "rarefying sample SC249365-PC07578-E-09\n",
      "rarefying sample SC249368-PC07578-C-10\n",
      "rarefying sample SC249382\n",
      "rarefying sample SC249385-PC07578-C-07\n",
      "rarefying sample SC249387-PC07578-G-01\n",
      "rarefying sample SC249408\n",
      "rarefying sample SC249410\n",
      "rarefying sample SC249411\n",
      "rarefying sample SC249414\n",
      "rarefying sample SC249420-PC07578-H-07\n",
      "rarefying sample SC249421-PC07578-F-02\n",
      "rarefying sample SC249424\n",
      "rarefying sample SC249426\n",
      "rarefying sample SC249429\n",
      "rarefying sample SC249430\n",
      "rarefying sample SC249433\n",
      "rarefying sample SC249436\n",
      "rarefying sample SC249437\n",
      "rarefying sample SC249439-PC07578-G-07\n",
      "rarefying sample SC249441\n",
      "rarefying sample SC249443-PC07578-E-05\n",
      "rarefying sample SC249448\n",
      "rarefying sample SC249451-PC07578-F-06\n",
      "rarefying sample SC249453\n",
      "rarefying sample SC253181-PC07578-G-05\n",
      "rarefying sample SC253182-PC07578-A-01\n",
      "rarefying sample SC253183-PC07578-D-08\n",
      "rarefying sample SC253184-PC07578-G-06\n",
      "rarefying sample SC253186-PC07578-D-06\n",
      "rarefying sample SC253195-PC07578-E-07\n",
      "rarefying sample SC253196-PC07578-F-07\n",
      "rarefying sample SC253200-PC07578-C-08\n",
      "rarefying sample SC253201\n",
      "rarefying sample SC253202-PC07578-F-08\n",
      "rarefying sample SC253845\n",
      "rarefying sample SC253846\n",
      "rarefying sample SC304090\n",
      "rarefying sample SC304092\n",
      "rarefying sample SC304093\n",
      "rarefying sample SC304094\n",
      "rarefying sample SC304095\n",
      "rarefying sample SC304096\n",
      "rarefying sample SC304097\n",
      "rarefying sample SC304098\n",
      "rarefying sample SC304099\n",
      "rarefying sample SC304924-PC07578-A-11\n",
      "rarefying sample SC304924-PC07578-B-07\n",
      "rarefying sample SC304926\n",
      "rarefying sample SC304927\n",
      "rarefying sample SC304928\n",
      "rarefying sample SC304929\n",
      "rarefying sample SC304930\n",
      "rarefying sample SC304931\n",
      "rarefying sample SC326764\n",
      "rarefying sample SC326765\n",
      "rarefying sample SC326766\n",
      "rarefying sample SC326767\n",
      "rarefying sample SC326768\n",
      "rarefying sample SC249360-PC04924-C-01\n",
      "rarefying sample SC249362-PC04924-E-01\n",
      "rarefying sample SC249363\n",
      "rarefying sample SC249365-PC04924-H-01\n",
      "rarefying sample SC249368-PC04924-B-02\n",
      "rarefying sample SC249382-PC04924-D-02\n",
      "rarefying sample SC249383\n",
      "rarefying sample SC249385-PC04924-G-02\n",
      "rarefying sample SC249388\n",
      "rarefying sample SC249390\n",
      "rarefying sample SC249391-PC04924-D-03\n",
      "rarefying sample SC249393\n",
      "rarefying sample SC249407\n",
      "rarefying sample SC249408-PC04924-C-05\n",
      "rarefying sample SC249409\n",
      "rarefying sample SC249410-PC04924-E-05\n",
      "rarefying sample SC249411-PC04924-F-05\n",
      "rarefying sample SC249412\n",
      "rarefying sample SC249413\n",
      "rarefying sample SC249414-PC04924-A-06\n",
      "rarefying sample SC249417\n",
      "rarefying sample SC249418-PC04924-E-06\n",
      "rarefying sample SC249419-PC04924-F-06\n",
      "rarefying sample SC249420-PC04924-G-06\n",
      "rarefying sample SC249421-PC04924-H-06\n",
      "rarefying sample SC249424-PC04924-B-07\n",
      "rarefying sample SC249425\n",
      "rarefying sample SC249426-PC04924-D-07\n",
      "rarefying sample SC249427\n",
      "rarefying sample SC249428\n",
      "rarefying sample SC249429-PC04924-G-07\n",
      "rarefying sample SC249430-PC04924-H-07\n",
      "rarefying sample SC249432-PC04924-A-08\n",
      "rarefying sample SC249433-PC04924-B-08\n",
      "rarefying sample SC249434\n",
      "rarefying sample SC249435-PC04924-D-08\n",
      "rarefying sample SC249436-PC04924-E-08\n",
      "rarefying sample SC249437-PC04924-F-08\n",
      "rarefying sample SC249438\n",
      "rarefying sample SC249439-PC04924-H-08\n",
      "rarefying sample SC249440-PC04924-A-09\n",
      "rarefying sample SC249441-PC04924-B-09\n",
      "rarefying sample SC249442\n",
      "rarefying sample SC249443-PC04924-D-09\n",
      "rarefying sample SC249445-PC04924-E-09\n",
      "rarefying sample SC249446\n",
      "rarefying sample SC249447-PC04924-G-09\n",
      "rarefying sample SC249448-PC04924-H-09\n",
      "rarefying sample SC249449-PC04924-A-10\n",
      "rarefying sample SC249451-PC04924-C-10\n",
      "rarefying sample SC249452\n",
      "rarefying sample SC249453-PC04924-E-10\n",
      "rarefying sample SC253844\n",
      "rarefying sample SC253845-PC04924-H-10\n",
      "rarefying sample SC253846-PC04924-A-11\n",
      "rarefying sample SC253848\n",
      "rarefying sample SC253851\n",
      "rarefying sample SC253854\n",
      "rarefying sample SC284724\n",
      "rarefying sample SC284725\n",
      "rarefying sample SC284726\n",
      "rarefying sample SC284727\n",
      "rarefying sample SC284728\n",
      "rarefying sample SC284729\n"
     ]
    },
    {
     "data": {
      "text/html": [
       "<strong>png:</strong> 2"
      ],
      "text/latex": [
       "\\textbf{png:} 2"
      ],
      "text/markdown": [
       "**png:** 2"
      ],
      "text/plain": [
       "png \n",
       "  2 "
      ]
     },
     "metadata": {},
     "output_type": "display_data"
    }
   ],
   "source": [
    "#Plot final by subject ID\n",
    "png(paste(proj_dir,\"output/img/rarecurve_post_kit.png\",sep=\"\"))\n",
    "ggrare(phy_r,color = \"Sample.Type\", step=1000) + facet_wrap(~Ext.Kit)\n",
    "dev.off()"
   ]
  },
  {
   "cell_type": "code",
   "execution_count": 27,
   "metadata": {},
   "outputs": [
    {
     "data": {
      "text/plain": [
       "\n",
       "Ext_Control Seq_Control       Study \n",
       "        117          30         135 "
      ]
     },
     "metadata": {},
     "output_type": "display_data"
    },
    {
     "data": {
      "text/plain": [
       "\n",
       "  D6300   D6305   D6306   D6310   D6311 DZ35298 DZ35316 DZ35322 MSA1000 MSA1001 \n",
       "     53       5       5      16       1      47       4      23       4       5 \n",
       "MSA1002 MSA1003   Water human_1 \n",
       "      5       5      21      88 "
      ]
     },
     "metadata": {},
     "output_type": "display_data"
    },
    {
     "data": {
      "text/plain": [
       "\n",
       "Run1 Run2 Run3 Run4 \n",
       "  64   59   60   99 "
      ]
     },
     "metadata": {},
     "output_type": "display_data"
    }
   ],
   "source": [
    "temp = as.data.frame(sample_data(phy_r))\n",
    "table(temp$Sample.Type)\n",
    "table(temp$Subject.ID)\n",
    "table(temp$Run.ID)"
   ]
  },
  {
   "cell_type": "markdown",
   "metadata": {},
   "source": [
    "<h2 id=\"3nbsp;&nbsp;Filter-taxa\">3&nbsp;&nbsp;Filter taxa</h2>"
   ]
  },
  {
   "cell_type": "markdown",
   "metadata": {},
   "source": [
    "<h3 id=\"3.1&nbsp;&nbsp;By-taxa-mean\">3.1&nbsp;&nbsp;By taxa mean</h3>\n",
    "\n",
    "You may also want to remove rare taxa from your OTU table. These may add noise to a large dataset which you may not want. First, the dataset is transformed to relative abundance, and then filtered such that only OTUs with a mean greater than 10^-5 are kept."
   ]
  },
  {
   "cell_type": "code",
   "execution_count": null,
   "metadata": {},
   "outputs": [],
   "source": [
    "phy_r_t  = transform_sample_counts(phy_r, function(x) x / sum(x) )\n",
    "phy_r_tf = filter_taxa(phy_r_t, function(x) mean(x) > 1e-5, TRUE)"
   ]
  },
  {
   "cell_type": "markdown",
   "metadata": {},
   "source": [
    "<h3 id=\"3.2&nbsp;&nbsp;By-rel-abun\">3.2&nbsp;&nbsp;By relative abundance</h3>\n",
    "\n",
    "Remove any family OTU that is not present in a sample OR OTU's that are not identified at the taxa level "
   ]
  },
  {
   "cell_type": "code",
   "execution_count": null,
   "metadata": {
    "scrolled": true
   },
   "outputs": [],
   "source": [
    "#Create df of relative abundance's\n",
    "df <- psmelt(phy_low)"
   ]
  },
  {
   "cell_type": "code",
   "execution_count": null,
   "metadata": {},
   "outputs": [],
   "source": [
    "head(df)"
   ]
  },
  {
   "cell_type": "code",
   "execution_count": null,
   "metadata": {},
   "outputs": [],
   "source": [
    "#subset columns\n",
    "df_temp <- df[,c(\"Sample\",\"Abundance\",\"Genus\")]"
   ]
  },
  {
   "cell_type": "code",
   "execution_count": null,
   "metadata": {},
   "outputs": [],
   "source": [
    "#sum by family\n",
    "df_abun <- df_temp %>%\n",
    "    group_by(Sample, Genus) %>% \n",
    "    summarise_each(funs(sum))\n",
    "rm(df_temp)"
   ]
  },
  {
   "cell_type": "code",
   "execution_count": null,
   "metadata": {},
   "outputs": [],
   "source": [
    "#filter to remove 0 abundances, and family NA's\n",
    "df_ab_clean <- filter(df_abun, Abundance != 0 & !is.na(Genus))\n",
    "nrow(df_ab_clean)"
   ]
  },
  {
   "cell_type": "markdown",
   "metadata": {},
   "source": [
    "<h3 id=\"3.3&nbsp;&nbsp;By-amp-conc\">3.3&nbsp;&nbsp;By amp conc</h3>\n",
    "\n",
    "Compare Amp Conc with OTU by taxa level to find correlations"
   ]
  },
  {
   "cell_type": "code",
   "execution_count": null,
   "metadata": {},
   "outputs": [],
   "source": [
    "#Read in amp concentration\n",
    "amp_conc<-read.table('../manifest/AmpConc.txt',sep='\\t', header=T, row.names=1, comment=\"\")"
   ]
  },
  {
   "cell_type": "code",
   "execution_count": null,
   "metadata": {},
   "outputs": [],
   "source": [
    "#Convert to dataframe\n",
    "df_ab_conc<-data.frame(df_ab_clean)\n",
    "\n",
    "#Add conc values to OTU table\n",
    "for (a in 1:nrow(df_ab_conc)){\n",
    "    df_ab_conc[a,'Conc']<-amp_conc[df_ab_conc[a,'Sample'],'Conc']\n",
    "    df_ab_conc[a,'AbunForm']<-formatC(df_ab_conc[a,'Abundance'],format=\"e\")\n",
    "}\n",
    "head(df_ab_conc)"
   ]
  },
  {
   "cell_type": "code",
   "execution_count": null,
   "metadata": {},
   "outputs": [],
   "source": [
    "#filter samples with a concentraton of 0 or normalized concentration of 25\n",
    "df_conc_clean<-filter(df_ab_conc, Conc !=0)\n",
    "df_conc_clean<-df_conc_clean[!between(df_conc_clean$Conc, 24.9, 25.1),]\n",
    "\n",
    "head(df_conc_clean)"
   ]
  },
  {
   "cell_type": "code",
   "execution_count": null,
   "metadata": {},
   "outputs": [],
   "source": [
    "#Create function for spearman test\n",
    "spear_test <- function(df_in){\n",
    "    if (nrow(df_in)>2){\n",
    "        cor<-cor.test( ~ Abundance + Conc,\n",
    "        data=df_in,\n",
    "        method = \"spearman\",\n",
    "        exact = FALSE, #OK if there are ties\n",
    "        conf.level = 0.95)\n",
    "    return(c(cor$p.value,cor$estimate))\n",
    "    } else{\n",
    "        return(c(\"No Calc\",\"No Calc\"))\n",
    "    }\n",
    "}"
   ]
  },
  {
   "cell_type": "code",
   "execution_count": null,
   "metadata": {},
   "outputs": [],
   "source": [
    "#Create df to save spearman data\n",
    "fam_list <- unique(df_conc_clean$Genus) ##Change Level\n",
    "\n",
    "df_spear<-data.frame(fam_list)\n",
    "rownames(df_spear)<-df_spear$fam_list\n",
    "df_spear<-df_spear[-1]\n",
    "\n",
    "#Run spearman\n",
    "for  (a in fam_list){\n",
    "    df_temp<-data.frame(filter(df_conc_clean, Genus == a)) ##Change Level\n",
    "    s_vals<-spear_test(df_temp)\n",
    "    df_spear[a,'pVal']<-s_vals[1]\n",
    "    df_spear[a,'rho']<-s_vals[2]\n",
    "}"
   ]
  },
  {
   "cell_type": "code",
   "execution_count": null,
   "metadata": {},
   "outputs": [],
   "source": [
    "#Remove values not tested\n",
    "df_spear[\"Genus\"]<-rownames(df_spear) ##Change Level\n",
    "df_spear_sig<-filter(df_spear,pVal!=\"No Calc\" | rho!=\"No Calc\")\n",
    "df_spear_sig<-filter(df_spear_sig,pVal<0.005)\n",
    "rownames(df_spear_sig)<-df_spear_sig$Genus ##Change Level\n",
    "df_spear_sig$pVal<-as.numeric(df_spear_sig$pVal)\n",
    "df_spear_sig$rho<-as.numeric(df_spear_sig$rho)\n",
    "\n",
    "df_spear_sig"
   ]
  },
  {
   "cell_type": "code",
   "execution_count": null,
   "metadata": {},
   "outputs": [],
   "source": [
    "#Subset Ab/Con df to only include sig values\n",
    "sub_list<-unique(df_spear_sig$Genus) ##Change Level\n",
    "df_ab_con_sig<-subset(df_conc_clean, Genus %in% sub_list) ##Change Level\n",
    "head(df_ab_con_sig)"
   ]
  },
  {
   "cell_type": "code",
   "execution_count": null,
   "metadata": {},
   "outputs": [],
   "source": [
    "for(a in unique(df_spear_sig$Genus)){ ##Change Level\n",
    "    df_temp<-filter(df_ab_con_sig,Genus==a) ##Change Level\n",
    "    p<-ggscatter(df_temp, x = \"AbunForm\", y = \"Conc\", title=paste(\"p=\",formatC(df_spear_sig[a,'pVal'],format=\"e\"),sep=\"\"),\n",
    "                add = \"reg.line\",               # Add regression line\n",
    "                #conf.int = TRUE,                # Add confidence interval\n",
    "                color = \"Genus\", palette = \"jco\"#, # Color by groups \"cyl\" ##Change Level\n",
    "                ) \n",
    "    p_fin<-p + rremove(\"x.text\")\n",
    "    print(p_fin)\n",
    "}\n"
   ]
  },
  {
   "cell_type": "markdown",
   "metadata": {},
   "source": [
    "<h2 id=\"4&nbsp;&nbsp;Distance Matrices\">4&nbsp;&nbsp;Distance Matrices</h2>"
   ]
  },
  {
   "cell_type": "markdown",
   "metadata": {},
   "source": [
    "Distance matrices provide information on how close two samples' OTU's are to one another. Ordination provies a way to visualize multiple dimensions simulatenously. We focus on important dimensions (referring to the greatest explanation of variance) and therefore reduce the \"noise\" (Gauch 1982).\n",
    "\n",
    "There are two types of ordination:\n",
    "\n",
    "- Indirect: utilizes only the species in a sample matrix. Any metadata added is simply an interpretation tool. Askign asking the species what the most important gradients are. \n",
    "    - Examples include distance based approachs (Bray-Curtis ordination, Principal Coordinates Analysis, Nonmetric Multidimensional Scaling) and eigenanalysis-based approaches (Principal Components Analysis, Correspondence Analysis, Detrended Correspondence Analysis)\n",
    "- Direct: utilizes external environmental data in addition to the species data. A regression analysis, which tells us if species composition is related to our measured variables. Direct analysis allows us to test the null hypothesis that species composition is unrelated to measured variables. \n",
    "    - Examples include linear models (Redundancy Analysis) and unimodal models (Canonical Correspondence Analysis, Detrended Canonical Correspondence Analysis) \n",
    "    \n",
    "For this dataset, since it incldes null values (bacterial OTU is present in some samples and not in others), the Bray-Curtis similarity matrix and nMDS ordination was selected. Bray-Curtis distance is chosen because it is not affected by the number of null values between samples (like Euclidean distance), and nMDS is chosen because you can choose any similarity matrix, not like PCA.\n",
    "\n",
    "#sources: http://ordination.okstate.edu/overview.htm#Table_3. "
   ]
  },
  {
   "cell_type": "code",
   "execution_count": null,
   "metadata": {},
   "outputs": [],
   "source": [
    "#Filter phy obj \n",
    "sample_list<-data.frame(sample_data(phy_low))\n",
    "sample_list[,\"Sample\"]<-rownames(sample_list)\n",
    "\n",
    "df_temp2<-unique(filter(df_ab_conc, Conc !=0)) #remove concentration of 0\n",
    "sample_list<-unique(df_temp2$Sample)\n",
    "\n",
    "phy_fr<-subset_samples(phy_obj,rownames(sample_data(phy_low)) %in% sample_list)\n",
    "phy_fr"
   ]
  },
  {
   "cell_type": "markdown",
   "metadata": {},
   "source": [
    "<h3 id=\"4.1&nbsp;&nbsp;Ord\">4.1&nbsp;&nbsp;Ordination Plot</h3>"
   ]
  },
  {
   "cell_type": "code",
   "execution_count": null,
   "metadata": {},
   "outputs": [],
   "source": [
    "#method options: c(\"DCA\", \"CCA\", \"RDA\", \"CAP\", \"DPCoA\", \"NMDS\", \"MDS\", \"PCoA\")\n",
    "#distance options: \n",
    "phy_ord <- function(phy_in,meth_in,dist_in,col_in,shape_in,f_name){\n",
    "    phy_ob_ord <- ordinate(\n",
    "      physeq = phy_in, \n",
    "      method = meth_in, \n",
    "      distance = dist_in\n",
    "    )\n",
    "\n",
    "    # Plot \n",
    "    p<-plot_ordination(\n",
    "      physeq = phy_in,\n",
    "      ordination = phy_ob_ord,\n",
    "      color = col_in,\n",
    "      shape = shape_in,\n",
    "      title = paste(meth_in,\"-\",dist_in,sep=\"\")\n",
    "    )\n",
    "    ggsave(paste(\"../output/img/ord-\",meth_in,\"-\",dist_in,\"-\",f_name,\".jpeg\",sep=\"\"),p)\n",
    "}"
   ]
  },
  {
   "cell_type": "code",
   "execution_count": null,
   "metadata": {},
   "outputs": [],
   "source": [
    "#Filter phylo_obj if necessary\n",
    "subset_list<-c(\"Robogut\",\"human_1\")\n",
    "phy_sub<-subset_samples(phy_fr, Sample.Des %in% subset_list)"
   ]
  },
  {
   "cell_type": "code",
   "execution_count": null,
   "metadata": {
    "scrolled": true
   },
   "outputs": [],
   "source": [
    "#Run ordination\n",
    "phy_ord(phy_sub,\"NMDS\",\"jaccard\",\"Sample.Des\",\"Ext.Kit\",\"sam_only\")\n",
    "phy_ord(phy_fr,\"NMDS\",\"jaccard\",\"Sample.Des\",\"Ext.Kit\",\"all\")"
   ]
  },
  {
   "cell_type": "markdown",
   "metadata": {},
   "source": [
    "<h3 id=\"4.2&nbsp;&nbsp;PAM\">4.2&nbsp;&nbsp;PAM: Partitioning Around Medoids algorithm</h3>\n",
    "\n",
    "In order to identify possible outliers and check for sample mishandling/misclassification, the Partitioning Around Medoids (PAM) algorithm was performed, based on Jaccard and Bray-Curtis distances. The number of cluster was set to the N of the sample sub-type observed.\n",
    "\n",
    "#sources: http://ecology.msu.montana.edu/labdsv/R/labs/lab13/lab13.html"
   ]
  },
  {
   "cell_type": "code",
   "execution_count": null,
   "metadata": {},
   "outputs": [],
   "source": [
    "cal_dist <- function(df_in,meth_in){\n",
    "    df = distance(df_in, method=meth_in, type=\"samples\")\n",
    "    return (df)\n",
    "}"
   ]
  },
  {
   "cell_type": "code",
   "execution_count": null,
   "metadata": {},
   "outputs": [],
   "source": [
    "pam.clustering <- function(x,k) { # x is a distance matrix and k the number of clusters\n",
    "                         require(cluster)\n",
    "                         cluster = as.vector(pam(as.dist(x), k, diss=TRUE)$clustering)\n",
    "                         return(cluster)\n",
    "                        }"
   ]
  },
  {
   "cell_type": "code",
   "execution_count": null,
   "metadata": {},
   "outputs": [],
   "source": [
    "unique(sample_data(phy_sub)$Sample.Des)"
   ]
  },
  {
   "cell_type": "code",
   "execution_count": null,
   "metadata": {
    "scrolled": false
   },
   "outputs": [],
   "source": [
    "#subset_list<-c(\"Robogut\",\"human_1\")\n",
    "#Phy_sub<-subset_samples(Phy_fr, Sample.Des %in% subset_list)\n",
    "\n",
    "df_dist = cal_dist(phy_fr,\"jaccard\")\n",
    "clustered = pam(df_dist,6) \n",
    "clusplot(clustered,labels=5,col.p=sample_data(phy_fr)$Sample.Type, main = \"Jaccard PAM Plot\",\n",
    "          xlab = \"Component 1\", ylab = \"Component 2\")\n",
    "\n",
    "df_dist = cal_dist(phy_sub,\"jaccard\")\n",
    "clustered = pam(df_dist,2) \n",
    "clusplot(clustered,labels=5,col.p=sample_data(phy_sub)$Sample.Type, main = \"Jaccard PAM Plot\",\n",
    "          xlab = \"Component 1\", ylab = \"Component 2\")\n"
   ]
  },
  {
   "cell_type": "markdown",
   "metadata": {},
   "source": [
    "<h2 id=\"5&nbsp;&nbsp;Sequencing Controls\">5&nbsp;&nbsp;Sequencing Controls</h2>"
   ]
  },
  {
   "cell_type": "code",
   "execution_count": null,
   "metadata": {},
   "outputs": [],
   "source": [
    "phy_seq <- subset_samples(phy_obj,Sample.Type==\"Seq_Control\")"
   ]
  },
  {
   "cell_type": "code",
   "execution_count": null,
   "metadata": {},
   "outputs": [],
   "source": [
    "for (a in unique(sample_data(phy_seq)$Run.ID)){\n",
    "    print(paste(a,\"counts:\",sum(sample_data(phy_seq)==a)),sep=\"\")\n",
    "}\n",
    "\n",
    "for (a in unique(sample_data(phy_seq)$Subject.ID)){\n",
    "    print(paste(a,\"counts:\",sum(sample_data(phy_seq)==a)),sep=\"\")\n",
    "}"
   ]
  },
  {
   "cell_type": "code",
   "execution_count": null,
   "metadata": {},
   "outputs": [],
   "source": [
    "# Create histogram function\n",
    "save_histogram<-function(phyobj,filtlab,graph_loc,filename){\n",
    " #Make a data frame with a column for the read counts of each sample\n",
    " sample_sum_df <- data.frame(sum = sample_sums(phyobj),sample_data(phyobj))\n",
    " \n",
    " # Histogram of sample read counts by sampletype\n",
    " p<-ggplot(sample_sum_df, aes(x = sum)) + \n",
    "   geom_histogram(binwidth = 2000,color=\"black\",aes(fill=Subject.ID)) +\n",
    "   geom_vline(aes(xintercept=median(sum,na.rm=T)),color=\"red\",size=2)+\n",
    "   xlab(\"Read Counts\") +\n",
    "   ggtitle(paste(\"Distribution of Sample Sequencing Depth - \",filtlab,sep=\"\")) +\n",
    "   theme(axis.title.y = element_blank())\n",
    "\n",
    " ggsave(paste(graph_loc,filename,sep=\"\"),p)\n",
    "}"
   ]
  },
  {
   "cell_type": "code",
   "execution_count": null,
   "metadata": {
    "scrolled": true
   },
   "outputs": [],
   "source": [
    "save_histogram(phy_seq,\"Seq-Reads\",paste(proj_dir,\"output/img/\",sep=\"\"),\"seq_seqdepth.jpeg\")"
   ]
  },
  {
   "cell_type": "code",
   "execution_count": null,
   "metadata": {},
   "outputs": [],
   "source": [
    "#df_ab_conc\n",
    "df_dist = cal_dist(phy_seq,\"jaccard\")\n",
    "clustered = pam(df_dist,3) \n",
    "clusplot(clustered,labels=3,col.p=sample_data(phy_seq)$Subject.ID, main = \"Jaccard PAM Plot\",\n",
    "          xlab = \"Component 1\", ylab = \"Component 2\")"
   ]
  },
  {
   "cell_type": "code",
   "execution_count": null,
   "metadata": {},
   "outputs": [],
   "source": []
  },
  {
   "cell_type": "code",
   "execution_count": null,
   "metadata": {},
   "outputs": [],
   "source": []
  },
  {
   "cell_type": "markdown",
   "metadata": {},
   "source": [
    "<h2 id=\"5&nbsp;&nbsp;Alpha Diversity\">5&nbsp;&nbsp;Alpha Diversity</h2>"
   ]
  },
  {
   "cell_type": "code",
   "execution_count": null,
   "metadata": {},
   "outputs": [],
   "source": [
    "plot_diversity<-function(phyobject,meas_list){\n",
    " p<-plot_richness(phyobject, meas_list) + geom_boxplot()\n",
    " file_name =paste(\"output/img/alphadiv_\",filter,\".tiff\",sep=\"\")\n",
    " tiff(file_name, width=800)\n",
    " print(p)\n",
    " dev.off()\n",
    "}"
   ]
  },
  {
   "cell_type": "code",
   "execution_count": null,
   "metadata": {},
   "outputs": [],
   "source": [
    "#GP <- prune_taxa(taxa_sums(phy_obj) > 0, phy_obj)\n",
    "#plot_richness(GP,measures=c(\"Shannon\",\"Observed\"))\n",
    "#estimate_richness(GP, measures=c(\"Shannon\",\"Observed\"))\n",
    "\n",
    "#colnames(otu_table(Phy_fr2))==rownames(sample_data(Phy_fr2))\n",
    "#phy_temp<-prune_taxa(taxa_sums(phy_obj) > 0, phy_obj)\n",
    "plot_diversity(phy_temp,c(\"Observed\",\"Shannon\"))"
   ]
  },
  {
   "cell_type": "code",
   "execution_count": null,
   "metadata": {},
   "outputs": [],
   "source": [
    "#Include all samples\n",
    "alpha_plots<-c(\"Sample.Des\")\n",
    "\n",
    "for (a in alpha_plots){\n",
    " plot_diversity(phy_obj,a)\n",
    "}"
   ]
  }
 ],
 "metadata": {
  "kernelspec": {
   "display_name": "R",
   "language": "R",
   "name": "ir"
  },
  "language_info": {
   "codemirror_mode": "r",
   "file_extension": ".r",
   "mimetype": "text/x-r-source",
   "name": "R",
   "pygments_lexer": "r",
   "version": "3.6.1"
  }
 },
 "nbformat": 4,
 "nbformat_minor": 4
}
